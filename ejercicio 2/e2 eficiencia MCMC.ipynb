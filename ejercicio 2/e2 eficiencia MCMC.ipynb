{
  "nbformat": 4,
  "nbformat_minor": 0,
  "metadata": {
    "colab": {
      "name": "e2 eficiencia MCMC.ipynb",
      "provenance": [],
      "collapsed_sections": []
    },
    "kernelspec": {
      "display_name": "Python 3",
      "language": "python",
      "name": "python3"
    },
    "language_info": {
      "codemirror_mode": {
        "name": "ipython",
        "version": 3
      },
      "file_extension": ".py",
      "mimetype": "text/x-python",
      "name": "python",
      "nbconvert_exporter": "python",
      "pygments_lexer": "ipython3",
      "version": "3.7.3"
    },
    "nbTranslate": {
      "displayLangs": [
        "es",
        "en"
      ],
      "hotkey": "alt-t",
      "langInMainMenu": true,
      "sourceLang": "en",
      "targetLang": "es",
      "useGoogleTranslate": true
    },
    "toc": {
      "base_numbering": 1,
      "nav_menu": {},
      "number_sections": true,
      "sideBar": true,
      "skip_h1_title": true,
      "title_cell": "Table of Contents",
      "title_sidebar": "Contents",
      "toc_cell": false,
      "toc_position": {},
      "toc_section_display": true,
      "toc_window_display": false
    }
  },
  "cells": [
    {
      "cell_type": "markdown",
      "metadata": {
        "colab_type": "text",
        "id": "jfC67Oy6qvzr"
      },
      "source": [
        "# MA6202: Laboratorio de Ciencia de Datos\n",
        "\n",
        "**Profesor: Nicolás Caro**\n",
        "\n",
        "**05/06/2020 - E2 S9**\n",
        "\n",
        "\n",
        "**Integrantes del grupo**: Danner Schlotterbeck, Pedro Cortés, Diego Irarrázaval y Gabriel Ortega"
      ]
    },
    {
      "cell_type": "markdown",
      "metadata": {
        "colab_type": "text",
        "id": "vkySsa8Xqvzs"
      },
      "source": [
        "## Ejercicio 2\n",
        "\n",
        "La estructura de esta evaluación consta de 5 preguntas. Tenga en cuenta que un problema de programación puede (por lo general) resolverse de múltiples maneras. Sin embargo, para optar al puntaje completo en cada pregunta, siga las indicaciones de los enunciados y utilice solo herramientas vistas en el curso. \n",
        "\n",
        "En lo que sigue de la evaluación, **no** estará permitido usar librerías ni módulos diferentes a los declarados en la siguiente celda."
      ]
    },
    {
      "cell_type": "code",
      "metadata": {
        "colab_type": "code",
        "id": "g6l1MbNiqvzs",
        "colab": {
          "base_uri": "https://localhost:8080/",
          "height": 87
        },
        "outputId": "a0790323-7073-41de-91a1-dc0ebc7f9b3a"
      },
      "source": [
        "# %load_ext autoreload\n",
        "# %autoreload 2\n",
        "# To use colab:\n",
        "try:\n",
        "  %load_ext line_profiler\n",
        "except ModuleNotFoundError:\n",
        "  !pip install line_profiler\n",
        "  %load_ext line_profiler\n",
        "%load_ext cython\n",
        "\n",
        "import pandas as pd\n",
        "import numpy as np\n",
        "import seaborn as sns\n",
        "import matplotlib.pyplot as plt\n",
        "import itertools\n",
        "import pickle as pk\n",
        "import os\n",
        "import warnings\n",
        "import math\n",
        "import glob\n",
        "\n",
        "from scipy import stats\n",
        "from functools import lru_cache\n",
        "from scipy import sparse \n",
        "from sklearn.base import BaseEstimator, ClassifierMixin\n",
        "from sklearn.metrics import accuracy_score, f1_score\n",
        "from sklearn.model_selection import train_test_split\n",
        "from sklearn.compose import ColumnTransformer\n",
        "from sklearn.preprocessing import StandardScaler, MinMaxScaler, OneHotEncoder\n",
        "from multiprocessing import Process, cpu_count"
      ],
      "execution_count": 11,
      "outputs": [
        {
          "output_type": "stream",
          "text": [
            "The line_profiler extension is already loaded. To reload it, use:\n",
            "  %reload_ext line_profiler\n",
            "The cython extension is already loaded. To reload it, use:\n",
            "  %reload_ext cython\n"
          ],
          "name": "stdout"
        }
      ]
    },
    {
      "cell_type": "markdown",
      "metadata": {
        "colab_type": "text",
        "id": "DwZ9TpObqvzv"
      },
      "source": [
        "El objetivo de este ejercicio es implementar **eficientemente** el algoritmo de regresión logística bayesiana, entrenado mediante un método de Markov Chain Montecarlo (MCMC), específicamente Metropolis-Hastings.\n",
        "\n",
        "Para trabajar en esta evaluación, construya un repositorio Git y resuelva las preguntas de este notebook utilizando tal repositorio. El formato de entrega es un archivo **.zip** con el repositorio correspondiente a este trabajo, no olvide incluir la carpeta `.git` asociada."
      ]
    },
    {
      "cell_type": "markdown",
      "metadata": {
        "colab_type": "text",
        "id": "9KnUVQnXqvzv"
      },
      "source": [
        "### Preliminares\n",
        "\n",
        "Se trabajará en un problema de **clasificación binaria** sobre un conjunto de datos. Tal conjunto, describe  el comportamiento de clientes en un banco frente a una llamada telefónica, en la cual se les ofrece un depósito a plazo. \n",
        "\n",
        "La variable objetivo del conjunto de datos describe si el cliente se subscribió o no luego de la llamada. Si bien no es necesario entender el significado de cada variable para el correcto desarrollo del ejercicio, en `data/readme.md` encontrarán una descripción de estas.\n",
        "\n",
        "#### Carga de datos\n",
        "Compruebe que la siguiente celda coincide con este output:\n",
        "\n",
        "```\n",
        "<class 'pandas.core.frame.DataFrame'>\n",
        "RangeIndex: 11162 entries, 0 to 11161\n",
        "Data columns (total 17 columns):\n",
        " #   Column        Non-Null Count  Dtype   \n",
        "---  ------        --------------  -----   \n",
        " 0   age           11162 non-null  int8    \n",
        " 1   job           11162 non-null  category\n",
        " 2   marital       11162 non-null  category\n",
        " 3   education     11162 non-null  category\n",
        " 4   default       11162 non-null  bool    \n",
        " 5   balance       11162 non-null  int64   \n",
        " 6   housing       11162 non-null  bool    \n",
        " 7   loan          11162 non-null  bool    \n",
        " 8   contact       11162 non-null  category\n",
        " 9   month         11162 non-null  category\n",
        " 10  campaign      11162 non-null  int64   \n",
        " 11  pdays         11162 non-null  int64   \n",
        " 12  previous      11162 non-null  int64   \n",
        " 13  poutcome      11162 non-null  category\n",
        " 14  outcome       11162 non-null  bool    \n",
        " 15  day_of_week   11162 non-null  category\n",
        " 16  log_duration  11162 non-null  float64 \n",
        "dtypes: bool(4), category(7), float64(1), int64(4), int8(1)\n",
        "memory usage: 568.7 KB\n",
        "```"
      ]
    },
    {
      "cell_type": "code",
      "metadata": {
        "colab_type": "code",
        "id": "6RJC4xFGqvzv",
        "colab": {
          "base_uri": "https://localhost:8080/",
          "height": 468
        },
        "outputId": "9b6aee18-a05d-4bcf-b78e-465e20ec9c7a"
      },
      "source": [
        "try:\n",
        "    !unzip '/content/ejercicio 2.zip'\n",
        "    with open('/content/data/trans_bank_marketing_codes-dtype.pk', 'rb') as file:\n",
        "      \n",
        "        dtypes_dict = pk.load(file)\n",
        "\n",
        "    reg_df = pd.read_csv('/content/data/trans_bank_marketing_codes.csv', dtype=dtypes_dict)\n",
        "    reg_df.info()\n",
        "except:\n",
        "    with open('data/trans_bank_marketing_codes-dtype.pk', 'rb') as file:\n",
        "\n",
        "        dtypes_dict = pk.load(file)\n",
        "\n",
        "    reg_df = pd.read_csv('data/trans_bank_marketing_codes.csv', dtype=dtypes_dict)\n",
        "    reg_df.info()"
      ],
      "execution_count": 12,
      "outputs": [
        {
          "output_type": "stream",
          "text": [
            "Archive:  /content/ejercicio 2.zip\n",
            "replace data/.gitignore? [y]es, [n]o, [A]ll, [N]one, [r]ename: N\n",
            "<class 'pandas.core.frame.DataFrame'>\n",
            "RangeIndex: 11162 entries, 0 to 11161\n",
            "Data columns (total 17 columns):\n",
            " #   Column        Non-Null Count  Dtype   \n",
            "---  ------        --------------  -----   \n",
            " 0   age           11162 non-null  int8    \n",
            " 1   job           11162 non-null  category\n",
            " 2   marital       11162 non-null  category\n",
            " 3   education     11162 non-null  category\n",
            " 4   default       11162 non-null  bool    \n",
            " 5   balance       11162 non-null  int64   \n",
            " 6   housing       11162 non-null  bool    \n",
            " 7   loan          11162 non-null  bool    \n",
            " 8   contact       11162 non-null  category\n",
            " 9   month         11162 non-null  category\n",
            " 10  campaign      11162 non-null  int64   \n",
            " 11  pdays         11162 non-null  int64   \n",
            " 12  previous      11162 non-null  int64   \n",
            " 13  poutcome      11162 non-null  category\n",
            " 14  outcome       11162 non-null  bool    \n",
            " 15  day_of_week   11162 non-null  category\n",
            " 16  log_duration  11162 non-null  float64 \n",
            "dtypes: bool(4), category(7), float64(1), int64(4), int8(1)\n",
            "memory usage: 568.7 KB\n"
          ],
          "name": "stdout"
        }
      ]
    },
    {
      "cell_type": "markdown",
      "metadata": {
        "colab_type": "text",
        "id": "x7HFql49qvzy"
      },
      "source": [
        "#### Preprocesamiento\n",
        "\n",
        "Los datos son cargados y preprocesados según las herramientas vistas en el curso"
      ]
    },
    {
      "cell_type": "code",
      "metadata": {
        "colab_type": "code",
        "id": "ja3Dgy3Zqvzy",
        "colab": {}
      },
      "source": [
        "# separar variables explicativas de objetivo\n",
        "X = reg_df.loc[:, reg_df.columns[reg_df.columns != 'outcome']]\n",
        "y = reg_df['outcome']\n",
        "\n",
        "# separar conjuntos de entrenamiento y prueba\n",
        "X_train, X_test, y_train, y_test = train_test_split(\n",
        "    X, y, test_size=0.25, random_state=42)\n",
        "\n",
        "# categorizar las columnas para ColumnTransformer\n",
        "\n",
        "int_cols = X_train.select_dtypes('int64').columns.tolist()\n",
        "float_cols = X_train.select_dtypes('float').columns.tolist()\n",
        "bool_cols = X_train.select_dtypes('bool').columns.tolist()\n",
        "\n",
        "one_hot_cols = X_train.select_dtypes('category').columns.tolist() + \\\n",
        "    X_train.select_dtypes('int8').columns.tolist()\n",
        "\n",
        "# inicializar ColumnTransformer\n",
        "col_trans = ColumnTransformer([\n",
        "    ('continuous_std', StandardScaler(), float_cols),\n",
        "    ('minmax', MinMaxScaler(), int_cols),\n",
        "    ('passthrough_bool', 'passthrough', bool_cols),\n",
        "    ('one_hot', OneHotEncoder(drop='first'), one_hot_cols)\n",
        "])\n",
        "\n",
        "# asegurar todas las columnas del conjunto de datos son utilizadas\n",
        "assert X.columns.isin(int_cols + float_cols + bool_cols + one_hot_cols).all(), \\\n",
        "    'No todas las columnas son consideradas en ColumnTransformer'\n",
        "\n",
        "# obtener los arreglos que se utilizaran en el ejercicio\n",
        "X_mcmc = col_trans.fit_transform(X_train)\n",
        "X_mcmc = sparse.hstack((np.ones((X_mcmc.shape[0], 1)), X_mcmc))\n",
        "y_mcmc = y_train.astype(int).values"
      ],
      "execution_count": 0,
      "outputs": []
    },
    {
      "cell_type": "markdown",
      "metadata": {
        "colab_type": "text",
        "id": "4b0vIRFcqvz0"
      },
      "source": [
        "### Regresión logística Bayesiana\n",
        "\n",
        "Dado un conjunto de observaciones para un problema de clasificación binario $\\mathcal{D}= \\{(\\mathbf{x}_i, y_i)\\}_{i=1}^{N} \\in \\mathbb{R}^{d} \\times \\{0,1\\}$ el modelo de regresión logística se determina por:\n",
        "\n",
        "$$\n",
        "p(y_i = 1 | \\mathbf{x}) = \\sigma(\\mathbf{w}^T\\mathbf{x})\n",
        "$$\n",
        "\n",
        "donde:\n",
        "$$\n",
        "\\sigma(\\mathbf{w}^T\\mathbf{x}) = \\frac{1}{1 + \\exp{(- \\mathbf{w}^T\\mathbf{x}})}\n",
        "$$\n",
        "\n",
        "Se asume la convención $\\mathbf{x}_i = (x_i, 1) \\forall i$, $x_i$ vector de características, esto permite codificar $\\mathbf{w} \\in \\mathbb{R}^{d}$. La verosimilitud asociada a este modelo viene dada por:\n",
        "\n",
        "$$\n",
        "p(\\mathbf{y} | \\mathbf{w})=\\prod_{n=1}^{N}  \\sigma(\\mathbf{w}^T\\mathbf{x}_n)^{y_n}\\left\\{1-\\sigma(\\mathbf{w}^T\\mathbf{x}_n)\\right\\}^{1-y_n}\n",
        "$$\n",
        "\n",
        "Si se escoge una probabilidad *prior* normal isotrópica $p(\\mathbf{w})= \\mathcal{N}\\left(\\mathbf{w} | \\mathrm{\\mu}_{w}, \\sigma_w^2 I \\right)$, el calculo de la distribución posterior $p(\\mathbf{w} | \\mathbf{y})$ se vuelve intratable. Esto pues, se hace necesario normalizar el producto de las probabilidades $p(\\mathbf{y} | \\mathbf{w})p(\\mathbf{w})$, para lo cual no se tiene una expresión analítica. Por tal motivo, la distribución posterior predictiva\n",
        "\n",
        "$$\n",
        "p(\\mathbf{y}_{*} | \\mathbf{w},\\mathbf{x}_{*}) = \\int \\sigma(\\mathbf{w}^T\\mathbf{x}_*) p(\\mathbf{w} | \\mathbf{y}) d\\mathbf{w}\n",
        "$$\n",
        "\n",
        "no puede ser calculada de manera explicita. Se busca por tanto, aproximar la probabilidad posterior $p(\\mathbf{w} | \\mathbf{y})$ y utilizar dicha aproximación para hacer predicciones por medio de $p(\\mathbf{y} | \\mathbf{w})$."
      ]
    },
    {
      "cell_type": "markdown",
      "metadata": {
        "colab_type": "text",
        "id": "wmyubHV9qvz0"
      },
      "source": [
        "### Pregunta 1\n",
        "\n",
        "Para comenzar, se definen los objetos necesarios para capturar el modelo de regresión logística bayesiana.\n",
        "\n",
        "1. Defina con `numpy` la función sigmoide y la log verosimilitud de la regresión logística. Compruebe que para el vector `w_inicial` obtiene aproximadamente `-3271`."
      ]
    },
    {
      "cell_type": "code",
      "metadata": {
        "colab_type": "code",
        "id": "cLu2C1Wuqvz1",
        "colab": {
          "base_uri": "https://localhost:8080/",
          "height": 35
        },
        "outputId": "8498d828-1e36-4c70-96b8-289110a14408"
      },
      "source": [
        "class RegresionLogisticaMixin():\n",
        "    '''Clase Mixin para el calculo de la log verosimilitud de un modelo \n",
        "    de regresion logistica'''\n",
        "    \n",
        "    def sigmoide(self, x):\n",
        "        # Implementación aca\n",
        "        return 1/(1+np.exp(-x))\n",
        "        \n",
        "    # metodo protegido (por compatibilidad de version posterior)\n",
        "    def _log_verosimilitud(self, w, X, y):\n",
        "        # Implementacion aca\n",
        "        return np.sum(np.multiply(y,np.log(self.sigmoide(X@w)))+np.multiply((1-y),(np.log(1-self.sigmoide(X@w)))))\n",
        "\n",
        "try:\n",
        "    w_inicial = np.load('/content/modelos/w_inicial.npy')\n",
        "except:\n",
        "    w_inicial = np.load('modelos/w_inicial.npy')\n",
        "RegresionLogisticaMixin()._log_verosimilitud(w_inicial, X_mcmc, y_mcmc)"
      ],
      "execution_count": 27,
      "outputs": [
        {
          "output_type": "execute_result",
          "data": {
            "text/plain": [
              "-3270.759266267652"
            ]
          },
          "metadata": {
            "tags": []
          },
          "execution_count": 27
        }
      ]
    },
    {
      "cell_type": "markdown",
      "metadata": {
        "colab_type": "text",
        "id": "vrer9Ljdqvz3"
      },
      "source": [
        "### MCMC\n",
        "\n",
        "Para lograr la aproximación de $p(\\mathbf{y} | \\mathbf{w})$ se utiliza un esquema de *Markov Chain Monte Carlo* (MCMC). Este se basa en la construcción de una cadena de Markov con distribución estacionaria \n",
        "$p(\\mathbf{w} | \\mathbf{y})$. Para construir esta cadena, se generan muestras de $\\mathbf{w}$ en el espacio de estados $\\mathbb{R}^d$ por medio de una distribución generadora de propuestas $q(\\mathbf{w})$. Luego se define una regla de transición, por medio del cual se evalúa si las muestras propuestas son aceptadas como representantes de $p(\\mathbf{w} | \\mathbf{y})$. \n",
        "\n",
        "El resultado del esquema MCMC es un conjunto de muestras provenientes de la distribución posterior deseada. Es conjunto de muestras se denota como **traza**. Para comprender la dinámica de selección de muestras consideremos el siguiente caso:\n",
        "\n",
        "Supongamos que se acepta la muestra $\\mathbf{w}_1$, luego se genera una nueva muestra (propuesta) $\\mathbf{w}_2$ por medio de $q(\\cdot| \\mathbf{w}_1)$. Para evaluar si esta nueva muestra es aceptada como miembro de la cadena,  se define el *coeficiente de aceptación* $\\alpha ( \\mathbf{w}_1 , \\mathbf{w}_2 ) = \\min \\left[ 1 , \\frac { p ( \\mathbf{w}_2 | \\mathbf{y})  q ( \\mathbf{w}_1 | \\mathbf{w}_2 ) } { p ( \\mathbf{w}_1 | \\mathbf{y}) q (\\mathbf{w}_2 | \\mathbf{w}_1 ) } \\right]$. No se conoce el valor de  $p ( \\mathbf{w} | \\mathbf{y})$ pero se sabe que\n",
        "\n",
        "$$\n",
        "p(\\mathbf{w} | \\mathbf{y}) \\propto p(\\mathbf{y} | \\mathbf{w})p(\\mathbf{w})\n",
        "$$\n",
        "\n",
        "Luego \n",
        "\n",
        "$$\n",
        "\\frac { p ( \\mathbf{w}_2 | \\mathbf{y})  q ( \\mathbf{w}_1 | \\mathbf{w}_2 ) } { p ( \\mathbf{w}_1 | \\mathbf{y}) q (\\mathbf{w}_2 | \\mathbf{w}_1 ) } \n",
        "=\n",
        "\\frac { p(\\mathbf{y} | \\mathbf{w}_2)q ( \\mathbf{w}_1 | \\mathbf{w}_2 ) p(\\mathbf{w}_2)}{ p(\\mathbf{y} | \\mathbf{w}_1) q (\\mathbf{w}_2 | \\mathbf{w}_1 )p(\\mathbf{w}_1) }\n",
        "$$\n",
        "\n",
        "Lo cual nos permite simular muestras de la posterior por medio de evaluaciones de la verosimilitud y prior del modelo. La variante de MCMC propuesta en este ejercicio de conoce como *Metropolis Hastings*. El algoritmo se describe a continuación:\n",
        "\n",
        "0. Como entrada del algoritmo se requiere $\\mathbf{w}_0$, la verosimilitud del modelo, la probabilidad prior para $\\mathbf{w}$ y una distribución generadora de propuestas $q(\\cdot)$. Como salida del algoritmo se tendrán `N` vectores `w_1`, ..., `w_N`.\n",
        "\n",
        "1. Para `i=1` hasta `N`:\n",
        "    1. Obtener una muestra `w_prop` de $q(\\cdot |\\mathbf{w}_{i-1})$.\n",
        "    2. Obtener una muestra de una variable aleatoria uniforme $U$.\n",
        "    3. Si $U < \\frac { p(\\mathbf{y} | \\mathbf{w}_{prop})q ( \\mathbf{w}_{i-1} | \\mathbf{w}_{prop} ) p(\\mathbf{w}_{prop})}{ p(\\mathbf{y} | \\mathbf{w}_{i-1}) q (\\mathbf{w}_{prop} | \\mathbf{w}_1 )p(\\mathbf{w}_{i-1}) }$ entonces $\\mathbf{w}_i =$ `w_prop`. En caso contrario $\\mathbf{w}_i = \\mathbf{w}_{i-1}$.\n",
        "\n",
        "Dado que la convergencia a $p(\\mathbf{w} | \\mathbf{y})$ se tiene en el infinito, las primeras muestras obtenidas por la cadena no son recomendables como representantes de la distribución posterior, eliminar cierta cantidad de muestras al inicio de la cadena se denomina *quemar la cadena*. Por otra parte, dado que las muestras obtenidas provienen de una cadena de Markov, estas son altamente dependientes entre si, por lo que se recomienda seleccionar muestras de la traza cada cierta cantidad de *saltos* o *leaps* para evitar dependencia entre las muestras obtenidas. Por último, si se posee un conjunto de muestras $\\mathbf{w}_1, ..., \\mathbf{w}_M$ provenientes de $p(\\mathbf{w} | \\mathbf{y})$, es posible aproximar la distribución posterior predictiva por medio de:\n",
        "\n",
        "$$\n",
        "p(\\mathbf{y}_{*} | \\mathbf{w},\\mathbf{x}_{*}) = \\int \\sigma(\\mathbf{w}^T\\mathbf{x}_*) p(\\mathbf{w} | \\mathbf{y}) d\\mathbf{w} \\approx \\frac{1}{M} \\sum_{i = 1}^{M} \\sigma(\\mathbf{w}_i^T\\mathbf{x}_{*})\n",
        "$$\n",
        "\n",
        "\n",
        "A continuación se implementa dicho algoritmo para una distribución de propuestas normal isotrópica. Estudie con antención el código."
      ]
    },
    {
      "cell_type": "code",
      "metadata": {
        "colab_type": "code",
        "id": "B0Dd3MvPqvz3",
        "colab": {}
      },
      "source": [
        "class RegresionLogisticaBayesianaMHV0(\n",
        "        BaseEstimator, ClassifierMixin, RegresionLogisticaMixin):\n",
        "\n",
        "    def __init__(\n",
        "            self, w_inicial, media_priori, std_priori, std_proposal, n_muestras):\n",
        "\n",
        "        # parametros metropolis hastings\n",
        "        self.w_inicial = w_inicial\n",
        "        self.media_priori = media_priori\n",
        "        self.std_priori = std_priori\n",
        "        self.std_proposal = std_proposal\n",
        "        self.n_muestras = n_muestras\n",
        "\n",
        "        # atributos inferidos\n",
        "        self.dim_parametros = self.w_inicial.shape[0]\n",
        "        self.traza = np.zeros((self.n_muestras + 1, self.dim_parametros, ))\n",
        "        self.traza[0] = self.w_inicial\n",
        "\n",
        "    def get_metropolis_hastings_candidatos(self):\n",
        "        '''    \n",
        "        Obtiene las muestras de una normal multivariada isotropica para \n",
        "        utilizarlos como candidatos de la cadena de Markov.\n",
        "        '''\n",
        "        distribucion_candidatos = stats.multivariate_normal(\n",
        "            mean=np.zeros(self.dim_parametros), cov=(\n",
        "                self.std_proposal ** 2) * np.eye(self.dim_parametros))\n",
        "\n",
        "        return distribucion_candidatos.rvs(size=self.n_muestras)\n",
        "\n",
        "    def get_metropolis_hastings_uniformes(self):\n",
        "        '''    \n",
        "        Obtiene las muestras de una normal multivariada isotropica para \n",
        "        utilizarlos como candidatos de la cadena de Markov.\n",
        "        '''\n",
        "\n",
        "        return np.random.uniform(size=(self.n_muestras,))\n",
        "\n",
        "    def get_priori(self):\n",
        "        '''\n",
        "        Prior Gaussiana con media mu_w y covarianza esferica sigma_w**2 I\n",
        "        '''\n",
        "        return stats.multivariate_normal(mean=np.zeros(self.dim_parametros), cov=(\n",
        "            self.std_priori**2)*np.eye(self.dim_parametros))\n",
        "\n",
        "    def metropolis_hastings(self, X, y, semilla):\n",
        "        '''\n",
        "        Muestrea el espacio de los parametros mediante Metropolis-Hastings\n",
        "        '''\n",
        "\n",
        "        # asegura replicabilidad\n",
        "        np.random.seed(semilla)\n",
        "\n",
        "        # obtiene distribucion a priori y candidatos\n",
        "        distribucion_priori = self.get_priori()\n",
        "        W_candidatos = self.get_metropolis_hastings_candidatos()\n",
        "        U_aceptacion = self.get_metropolis_hastings_uniformes()\n",
        "\n",
        "        # contador de candidatos aceptados\n",
        "        aceptados = 0\n",
        "\n",
        "        for i, w_candidato in enumerate(W_candidatos):\n",
        "\n",
        "            # localiza distribucion candidatos en w_actual\n",
        "            w_actual = self.traza[i]\n",
        "            w_candidato += w_actual\n",
        "\n",
        "            # calcula prior\n",
        "            delta_prior = distribucion_priori.logpdf(w_candidato) - \\\n",
        "                distribucion_priori.logpdf(w_actual)\n",
        "\n",
        "            # calcula verosimilitud\n",
        "            delta_verosimilitud = self._log_verosimilitud(w_candidato, X, y) - \\\n",
        "                self._log_verosimilitud(w_actual, X, y)\n",
        "\n",
        "            # probabilidad de aceptacion\n",
        "            p_aceptacion = math.exp(delta_verosimilitud + delta_prior)\n",
        "\n",
        "            if U_aceptacion[i] < p_aceptacion:\n",
        "\n",
        "                # actualiza valor actual y contador de aceptados\n",
        "                w_actual = w_candidato\n",
        "                aceptados += 1\n",
        "\n",
        "            self.traza[i+1] = w_actual\n",
        "\n",
        "        # almacena la proporcion de candidatos aceptados\n",
        "        self.proporcion_aceptacion = aceptados / self.n_muestras\n",
        "\n",
        "    def fit(self, X, y, n_muestras_quemadas=0, leap=10, semilla=6202):\n",
        "\n",
        "        # obtener traza mediante Metropolis Hastings\n",
        "        self.metropolis_hastings(X, y, semilla)\n",
        "\n",
        "        # obtener muestras posterior\n",
        "        self.w_post = self.traza[n_muestras_quemadas::leap, ]\n",
        "\n",
        "    def predict_proba(self, X):\n",
        "        # Aproximacion de la posterior predictiva\n",
        "        return np.mean(self.sigmoide(X @ self.w_post.T), axis=1)\n",
        "\n",
        "    def predict(self, X):\n",
        "\n",
        "        # maneja aproximacion de 0.5 a 1 (por comportamiento \"round half\n",
        "        # to even\")\n",
        "        return np.round(1 + self.predict_proba(X)) - 1"
      ],
      "execution_count": 0,
      "outputs": []
    },
    {
      "cell_type": "markdown",
      "metadata": {
        "colab_type": "text",
        "id": "AA2IIdtXqvz6"
      },
      "source": [
        "Se comprueban los resultados de entrenamiento"
      ]
    },
    {
      "cell_type": "code",
      "metadata": {
        "colab_type": "code",
        "id": "63CAnlYJqvz6",
        "colab": {}
      },
      "source": [
        "# parametros MCMC\n",
        "_, std_inicial = stats.norm.fit(w_inicial, floc=0)\n",
        "media_prior = np.zeros(w_inicial.shape)\n",
        "std_poposal = 1e-2\n",
        "n_samples = int(1e3) \n",
        "\n",
        "# Entrenamiento\n",
        "rlb_v0 = RegresionLogisticaBayesianaMHV0(w_inicial,media_prior,std_inicial,std_poposal,n_samples)\n",
        "rlb_v0.fit(X_mcmc, y_mcmc)"
      ],
      "execution_count": 0,
      "outputs": []
    },
    {
      "cell_type": "code",
      "metadata": {
        "colab_type": "code",
        "id": "gkjzthxiqvz8",
        "colab": {
          "base_uri": "https://localhost:8080/",
          "height": 52
        },
        "outputId": "ea91bc39-3ee3-4c11-9b77-0a55b9a36c24"
      },
      "source": [
        "# Resultados\n",
        "ac_rlb = accuracy_score(rlb_v0.predict(X_mcmc), y_mcmc)\n",
        "print('Accuracy en conjunto de entrnamiento: ', ac_rlb)\n",
        "print('Proporcion de muestras aceptadas MCMC:', rlb_v0.proporcion_aceptacion)"
      ],
      "execution_count": 17,
      "outputs": [
        {
          "output_type": "stream",
          "text": [
            "Accuracy en conjunto de entrnamiento:  0.8329948632182534\n",
            "Proporcion de muestras aceptadas MCMC: 0.61\n"
          ],
          "name": "stdout"
        }
      ]
    },
    {
      "cell_type": "markdown",
      "metadata": {
        "colab_type": "text",
        "id": "DgCAMH48qvz_"
      },
      "source": [
        "### Pregunta 2"
      ]
    },
    {
      "cell_type": "markdown",
      "metadata": {
        "colab_type": "text",
        "id": "QsZqBpB6qvz_"
      },
      "source": [
        "1. Reporte el tiempo de ejecución de cada línea del método `metropolis_hastings` en un archivo de texto llamado `RegresionLogisticaBayesianaMHV0.txt` en la carpeta `reportes`. Compruebe que  más de un 90% del tiempo se utiliza en la función `log_verosimilitud`. En lo que queda del ejercicio nos dedicaremos a optimizar este método. "
      ]
    },
    {
      "cell_type": "code",
      "metadata": {
        "colab_type": "code",
        "id": "usp_TXFEqvz_",
        "colab": {
          "base_uri": "https://localhost:8080/",
          "height": 52
        },
        "outputId": "aee7e190-818e-4f8b-8a2b-dc7ff6ab56df"
      },
      "source": [
        "R=RegresionLogisticaBayesianaMHV0(w_inicial,0,1,1,10)\n",
        "%lprun -T reportes/RegresionLogisticaBayesianaMHV0.txt -f RegresionLogisticaBayesianaMHV0.metropolis_hastings R.metropolis_hastings(X_mcmc,y_mcmc,2) "
      ],
      "execution_count": 18,
      "outputs": [
        {
          "output_type": "stream",
          "text": [
            "\n",
            "*** Profile printout saved to text file 'reportes/RegresionLogisticaBayesianaMHV0.txt'. \n"
          ],
          "name": "stdout"
        }
      ]
    },
    {
      "cell_type": "markdown",
      "metadata": {
        "colab_type": "text",
        "id": "no7IgcuYqv0C"
      },
      "source": [
        "### Pregunta 3\n",
        "**Optimice el algoritmo**: \n",
        "\n",
        "1. Haga anulación (*overriding*) del método `metropolis_hastings` para evitar que para un mismo input se compute más de una vez la log verosimilitud y la log probabilidad *a priori*. \n",
        "2. Discuta en la celda subsiguiente por qué el uso de `@lru_cache` no es ideal.\n",
        "3. Reporte el tiempo de ejecución de cada línea del método `metropolis_hastings` en un archivo de texto llamado `RegresionLogisticaBayesianaMHV1.txt` en la carpeta `reportes`."
      ]
    },
    {
      "cell_type": "code",
      "metadata": {
        "colab_type": "code",
        "id": "5VGz-CS63B4Q",
        "colab": {}
      },
      "source": [
        "# construya RegresionLogisticaBayesianaMHV1 aqui\n",
        "class RegresionLogisticaBayesianaMHV1(RegresionLogisticaBayesianaMHV0):\n",
        "    def metropolis_hastings(self, X, y, semilla):\n",
        "        '''\n",
        "        Muestrea el espacio de los parametros mediante Metropolis-Hastings\n",
        "        '''\n",
        "\n",
        "        # asegura replicabilidad\n",
        "        np.random.seed(semilla)\n",
        "\n",
        "        # obtiene distribucion a priori y candidatos\n",
        "        distribucion_priori = self.get_priori()\n",
        "        W_candidatos = self.get_metropolis_hastings_candidatos()\n",
        "        U_aceptacion = self.get_metropolis_hastings_uniformes()\n",
        "\n",
        "        # contador de candidatos aceptados\n",
        "        aceptados = 0\n",
        "        w_actual = self.w_inicial\n",
        "        prior_actual = distribucion_priori.logpdf(w_actual)\n",
        "        verosimilitud_actual = self._log_verosimilitud(w_actual, X, y)\n",
        "\n",
        "        for i, w_candidato in enumerate(W_candidatos):\n",
        "\n",
        "            # localiza distribucion candidatos en w_actual\n",
        "            w_candidato += w_actual\n",
        "\n",
        "            # calcula prior\n",
        "            prior_candidato = distribucion_priori.logpdf(w_candidato)\n",
        "            delta_prior = prior_candidato - prior_actual\n",
        "\n",
        "            # calcula verosimilitud\n",
        "            verosimilitud_candidato = self._log_verosimilitud(w_candidato, X, y)\n",
        "            delta_verosimilitud = verosimilitud_candidato - verosimilitud_actual\n",
        "\n",
        "            # probabilidad de aceptacion\n",
        "            p_aceptacion = math.exp(delta_verosimilitud + delta_prior)\n",
        "\n",
        "            if U_aceptacion[i] < p_aceptacion:\n",
        "\n",
        "                # actualiza valor, prior y verosimilitud actuales, además del contador de aceptados\n",
        "                w_actual = w_candidato\n",
        "                prior_actual = prior_candidato\n",
        "                verosimilitud_actual = verosimilitud_candidato\n",
        "                aceptados += 1\n",
        "\n",
        "            self.traza[i+1] = w_actual\n",
        "\n",
        "        # almacena la proporcion de candidatos aceptados\n",
        "        self.proporcion_aceptacion = aceptados / self.n_muestras"
      ],
      "execution_count": 0,
      "outputs": []
    },
    {
      "cell_type": "code",
      "metadata": {
        "colab_type": "code",
        "id": "_gGdHaDK3B4D",
        "colab": {
          "base_uri": "https://localhost:8080/",
          "height": 52
        },
        "outputId": "fa4d2c7d-9970-408d-a47b-e1467f9db2e2"
      },
      "source": [
        "# reporte el tiempo de ejecucion aqui\n",
        "R=RegresionLogisticaBayesianaMHV1(w_inicial,0,1,1,100)\n",
        "%lprun -T reportes/RegresionLogisticaBayesianaMHV1.txt -f RegresionLogisticaBayesianaMHV1.metropolis_hastings R.metropolis_hastings(X_mcmc,y_mcmc,2) "
      ],
      "execution_count": 20,
      "outputs": [
        {
          "output_type": "stream",
          "text": [
            "\n",
            "*** Profile printout saved to text file 'reportes/RegresionLogisticaBayesianaMHV1.txt'. \n"
          ],
          "name": "stdout"
        }
      ]
    },
    {
      "cell_type": "markdown",
      "metadata": {
        "colab_type": "text",
        "id": "qs2fPBvBqv0F"
      },
      "source": [
        "**Discusión.**\n",
        "En primer lugar el uso de `@lru_cache` no es recomendado dado que los inputs de la funcion `_log_verosimilitud` son arrays y por lo tanto no son hasheables. Además, este decorador funciona mejor sobre funciones recursivas donde no se puede obviar la necesidad de obtener valores anteriormente calculados (ej: Fibonacci), pero este no es el caso dado que basta con mantener en variables internas los valores actuales de la verosimilitud y el prior e irlos actualizando a medida que cambian."
      ]
    },
    {
      "cell_type": "markdown",
      "metadata": {
        "colab_type": "text",
        "id": "o9wRWIS2qv0I"
      },
      "source": [
        "### Pregunta 4\n",
        "**Procesos distribuidos**. \n",
        "\n",
        "1. Implemente la clase `ProcesoRegresionLogisticaBayesianaMHV1`, que herede de `Process` y `RegresionLogisticaBayesianaMHV1`, cuyo objetivo es guardar en el disco la traza obtenida en el proceso de entrenamiento.\n",
        "2. Obtenga tantas trazas de como nucleos tenga el procesador de su computador. Dichas trazas deben ser guardadas en la carpeta `trazas`, con el nombre del archivo según el formato `s_DDDD.npy` donde `DDDD` es un entero de 4 dígitos que representa la semilla utilizada para la obtención de dicha traza. *Hint*: puede obtener el número de núcleos de su procesador mediante la función `cpu_count()` de la librería `multiprocessing`. \n"
      ]
    },
    {
      "cell_type": "code",
      "metadata": {
        "colab_type": "code",
        "id": "stIlhW1Aqv0I",
        "colab": {}
      },
      "source": [
        "# construya ProcesoRegresionLogisticaBayesianaMHV1 aqui\n",
        "class ProcesoRegresionLogisticaBayesianaMHV1(Process, RegresionLogisticaBayesianaMHV1):    \n",
        "    \n",
        "    def __init__(self, w_inicial, media_priori, std_priori, std_proposal, n_muestras, X, y, seed,id):\n",
        "        RegresionLogisticaBayesianaMHV1.__init__(self,w_inicial, media_priori, std_priori, std_proposal, n_muestras)\n",
        "        Process.__init__(self)\n",
        "        self.id = id\n",
        "        self.X = X\n",
        "        self.y = y\n",
        "        self.seed = seed\n",
        "\n",
        "    def getTraza(self):\n",
        "        return self.traza\n",
        "      \n",
        "    \n",
        "    def run(self):\n",
        "        self.fit(X = self.X,y = self.y, semilla = self.seed)\n",
        "        print('traza con seed = ' + str(self.seed))\n",
        "        name = '/content/trazas/s_' + str(self.seed) + '.npy'\n",
        "        np.save(name, self.traza)"
      ],
      "execution_count": 0,
      "outputs": []
    },
    {
      "cell_type": "code",
      "metadata": {
        "colab_type": "code",
        "id": "BjYVB2Xqqv0M",
        "outputId": "df6947d6-aee7-4355-bf02-b9f02a18a9a9",
        "colab": {
          "base_uri": "https://localhost:8080/",
          "height": 52
        }
      },
      "source": [
        "if __name__ == '__main__':\n",
        "    processes = []\n",
        "    for i in range(0,cpu_count()):\n",
        "        seed = np.random.randint(999,9999)\n",
        "        Proc = ProcesoRegresionLogisticaBayesianaMHV1(w_inicial,0,1,1,1000, X_mcmc, y_mcmc, seed , id = i)\n",
        "        Proc.start()\n",
        "        processes.append(Proc)\n",
        "\n",
        "    for p in processes:\n",
        "        p.join()"
      ],
      "execution_count": 29,
      "outputs": [
        {
          "output_type": "stream",
          "text": [
            "traza con seed = 3011\n",
            "traza con seed = 4463\n"
          ],
          "name": "stdout"
        }
      ]
    },
    {
      "cell_type": "markdown",
      "metadata": {
        "colab_type": "text",
        "id": "yRH_Y9nnqv0P"
      },
      "source": [
        "### Log verosimilitud en Cython\n",
        "Para finalizar implementaremos una versión en Cython para la log verosimilitud. En la siguiente celda adaptaremos los tipos de datos\n"
      ]
    },
    {
      "cell_type": "code",
      "metadata": {
        "colab_type": "code",
        "id": "wnWP4zw-qv0Q",
        "colab": {}
      },
      "source": [
        "X_cython = X_mcmc.toarray().astype('float32')\n",
        "y_cython = y_mcmc.astype('int32')"
      ],
      "execution_count": 0,
      "outputs": []
    },
    {
      "cell_type": "markdown",
      "metadata": {
        "colab_type": "text",
        "id": "K6YUE8tkqv0T"
      },
      "source": [
        "### Pregunta 5\n",
        "**Versión cython de la Log veorsimilitud**\n",
        "\n",
        "1. Implemente la clase de cython `LogVerosimilitud`. Esta debe:\n",
        "    - Inicializarse con los argumentos `X` e `y` de tamaño conocido, es decir puede asumir que `X.shape = (8371, 56)` y que `y.shape = (8371,)`. *Hint*: Puede ser útil usar variables globales por medio del comando `DEF`.\n",
        "    - Poseer el método `get()` que opera sobre un arreglo de NumPy `w` y retorna su log verosimilitud. *Hint*: puede ser de utilidad el decorador `@cython.cdivision`.\n",
        "    - Transformar los arreglos de numpy (`X`, `y` y `w`) en arreglos de C.\n",
        "    - Minimizar la interacción con python, para acelerar el cómputo lo más posible. Para verificar esto utilice el `magic` de celda `%%cython -a`.\n",
        "\n",
        "*Hint*: utilice las funciones `exp` y `log` de `libc.math` de `cython`. "
      ]
    },
    {
      "cell_type": "code",
      "metadata": {
        "colab_type": "code",
        "id": "SjXlNDqI3B58",
        "colab": {
          "base_uri": "https://localhost:8080/",
          "height": 677
        },
        "outputId": "e0855e6c-d849-48d8-8180-d54bd4bd0d74"
      },
      "source": [
        "%%cython -a\n",
        "from libc.math cimport exp, log\n",
        "import cython\n",
        "\n",
        "DEF n = 8371\n",
        "DEF d = 56\n",
        "\n",
        "cdef class LogVerosimilitud:\n",
        "    cdef double X[8371][56]\n",
        "    cdef double y[8371]\n",
        "    \n",
        "    def __init__(self,X,y):\n",
        "        self.X = X\n",
        "        self.y = y\n",
        "    \n",
        "\n",
        "    @cython.cdivision(True)\n",
        "    def get(self, w):\n",
        "        cdef double w_c[d];\n",
        "        cdef double res=0;\n",
        "        cdef double s;\n",
        "\n",
        "        cdef double wx;\n",
        "\n",
        "        cdef int i;\n",
        "\n",
        "        w_c = w\n",
        "\n",
        "        for i from 0 <=i <n by 1:\n",
        "            wx = 0.0;\n",
        "            for j from 0<= j <d by 1:\n",
        "                wx = wx + w_c[j]*self.X[i][j]\n",
        "            s = 1/(1+exp(-wx))\n",
        "            res = res + self.y[i]*log(s) + (1-self.y[i])*log(1-s)\n",
        "        return res"
      ],
      "execution_count": 24,
      "outputs": [
        {
          "output_type": "execute_result",
          "data": {
            "text/html": [
              "<!DOCTYPE html>\n",
              "<!-- Generated by Cython 0.29.19 -->\n",
              "<html>\n",
              "<head>\n",
              "    <meta http-equiv=\"Content-Type\" content=\"text/html; charset=utf-8\" />\n",
              "    <title>Cython: _cython_magic_1f3deae8b619aa2df38f705784c5f668.pyx</title>\n",
              "    <style type=\"text/css\">\n",
              "    \n",
              "body.cython { font-family: courier; font-size: 12; }\n",
              "\n",
              ".cython.tag  {  }\n",
              ".cython.line { margin: 0em }\n",
              ".cython.code { font-size: 9; color: #444444; display: none; margin: 0px 0px 0px 8px; border-left: 8px none; }\n",
              "\n",
              ".cython.line .run { background-color: #B0FFB0; }\n",
              ".cython.line .mis { background-color: #FFB0B0; }\n",
              ".cython.code.run  { border-left: 8px solid #B0FFB0; }\n",
              ".cython.code.mis  { border-left: 8px solid #FFB0B0; }\n",
              "\n",
              ".cython.code .py_c_api  { color: red; }\n",
              ".cython.code .py_macro_api  { color: #FF7000; }\n",
              ".cython.code .pyx_c_api  { color: #FF3000; }\n",
              ".cython.code .pyx_macro_api  { color: #FF7000; }\n",
              ".cython.code .refnanny  { color: #FFA000; }\n",
              ".cython.code .trace  { color: #FFA000; }\n",
              ".cython.code .error_goto  { color: #FFA000; }\n",
              "\n",
              ".cython.code .coerce  { color: #008000; border: 1px dotted #008000 }\n",
              ".cython.code .py_attr { color: #FF0000; font-weight: bold; }\n",
              ".cython.code .c_attr  { color: #0000FF; }\n",
              ".cython.code .py_call { color: #FF0000; font-weight: bold; }\n",
              ".cython.code .c_call  { color: #0000FF; }\n",
              "\n",
              ".cython.score-0 {background-color: #FFFFff;}\n",
              ".cython.score-1 {background-color: #FFFFe7;}\n",
              ".cython.score-2 {background-color: #FFFFd4;}\n",
              ".cython.score-3 {background-color: #FFFFc4;}\n",
              ".cython.score-4 {background-color: #FFFFb6;}\n",
              ".cython.score-5 {background-color: #FFFFaa;}\n",
              ".cython.score-6 {background-color: #FFFF9f;}\n",
              ".cython.score-7 {background-color: #FFFF96;}\n",
              ".cython.score-8 {background-color: #FFFF8d;}\n",
              ".cython.score-9 {background-color: #FFFF86;}\n",
              ".cython.score-10 {background-color: #FFFF7f;}\n",
              ".cython.score-11 {background-color: #FFFF79;}\n",
              ".cython.score-12 {background-color: #FFFF73;}\n",
              ".cython.score-13 {background-color: #FFFF6e;}\n",
              ".cython.score-14 {background-color: #FFFF6a;}\n",
              ".cython.score-15 {background-color: #FFFF66;}\n",
              ".cython.score-16 {background-color: #FFFF62;}\n",
              ".cython.score-17 {background-color: #FFFF5e;}\n",
              ".cython.score-18 {background-color: #FFFF5b;}\n",
              ".cython.score-19 {background-color: #FFFF57;}\n",
              ".cython.score-20 {background-color: #FFFF55;}\n",
              ".cython.score-21 {background-color: #FFFF52;}\n",
              ".cython.score-22 {background-color: #FFFF4f;}\n",
              ".cython.score-23 {background-color: #FFFF4d;}\n",
              ".cython.score-24 {background-color: #FFFF4b;}\n",
              ".cython.score-25 {background-color: #FFFF48;}\n",
              ".cython.score-26 {background-color: #FFFF46;}\n",
              ".cython.score-27 {background-color: #FFFF44;}\n",
              ".cython.score-28 {background-color: #FFFF43;}\n",
              ".cython.score-29 {background-color: #FFFF41;}\n",
              ".cython.score-30 {background-color: #FFFF3f;}\n",
              ".cython.score-31 {background-color: #FFFF3e;}\n",
              ".cython.score-32 {background-color: #FFFF3c;}\n",
              ".cython.score-33 {background-color: #FFFF3b;}\n",
              ".cython.score-34 {background-color: #FFFF39;}\n",
              ".cython.score-35 {background-color: #FFFF38;}\n",
              ".cython.score-36 {background-color: #FFFF37;}\n",
              ".cython.score-37 {background-color: #FFFF36;}\n",
              ".cython.score-38 {background-color: #FFFF35;}\n",
              ".cython.score-39 {background-color: #FFFF34;}\n",
              ".cython.score-40 {background-color: #FFFF33;}\n",
              ".cython.score-41 {background-color: #FFFF32;}\n",
              ".cython.score-42 {background-color: #FFFF31;}\n",
              ".cython.score-43 {background-color: #FFFF30;}\n",
              ".cython.score-44 {background-color: #FFFF2f;}\n",
              ".cython.score-45 {background-color: #FFFF2e;}\n",
              ".cython.score-46 {background-color: #FFFF2d;}\n",
              ".cython.score-47 {background-color: #FFFF2c;}\n",
              ".cython.score-48 {background-color: #FFFF2b;}\n",
              ".cython.score-49 {background-color: #FFFF2b;}\n",
              ".cython.score-50 {background-color: #FFFF2a;}\n",
              ".cython.score-51 {background-color: #FFFF29;}\n",
              ".cython.score-52 {background-color: #FFFF29;}\n",
              ".cython.score-53 {background-color: #FFFF28;}\n",
              ".cython.score-54 {background-color: #FFFF27;}\n",
              ".cython.score-55 {background-color: #FFFF27;}\n",
              ".cython.score-56 {background-color: #FFFF26;}\n",
              ".cython.score-57 {background-color: #FFFF26;}\n",
              ".cython.score-58 {background-color: #FFFF25;}\n",
              ".cython.score-59 {background-color: #FFFF24;}\n",
              ".cython.score-60 {background-color: #FFFF24;}\n",
              ".cython.score-61 {background-color: #FFFF23;}\n",
              ".cython.score-62 {background-color: #FFFF23;}\n",
              ".cython.score-63 {background-color: #FFFF22;}\n",
              ".cython.score-64 {background-color: #FFFF22;}\n",
              ".cython.score-65 {background-color: #FFFF22;}\n",
              ".cython.score-66 {background-color: #FFFF21;}\n",
              ".cython.score-67 {background-color: #FFFF21;}\n",
              ".cython.score-68 {background-color: #FFFF20;}\n",
              ".cython.score-69 {background-color: #FFFF20;}\n",
              ".cython.score-70 {background-color: #FFFF1f;}\n",
              ".cython.score-71 {background-color: #FFFF1f;}\n",
              ".cython.score-72 {background-color: #FFFF1f;}\n",
              ".cython.score-73 {background-color: #FFFF1e;}\n",
              ".cython.score-74 {background-color: #FFFF1e;}\n",
              ".cython.score-75 {background-color: #FFFF1e;}\n",
              ".cython.score-76 {background-color: #FFFF1d;}\n",
              ".cython.score-77 {background-color: #FFFF1d;}\n",
              ".cython.score-78 {background-color: #FFFF1c;}\n",
              ".cython.score-79 {background-color: #FFFF1c;}\n",
              ".cython.score-80 {background-color: #FFFF1c;}\n",
              ".cython.score-81 {background-color: #FFFF1c;}\n",
              ".cython.score-82 {background-color: #FFFF1b;}\n",
              ".cython.score-83 {background-color: #FFFF1b;}\n",
              ".cython.score-84 {background-color: #FFFF1b;}\n",
              ".cython.score-85 {background-color: #FFFF1a;}\n",
              ".cython.score-86 {background-color: #FFFF1a;}\n",
              ".cython.score-87 {background-color: #FFFF1a;}\n",
              ".cython.score-88 {background-color: #FFFF1a;}\n",
              ".cython.score-89 {background-color: #FFFF19;}\n",
              ".cython.score-90 {background-color: #FFFF19;}\n",
              ".cython.score-91 {background-color: #FFFF19;}\n",
              ".cython.score-92 {background-color: #FFFF19;}\n",
              ".cython.score-93 {background-color: #FFFF18;}\n",
              ".cython.score-94 {background-color: #FFFF18;}\n",
              ".cython.score-95 {background-color: #FFFF18;}\n",
              ".cython.score-96 {background-color: #FFFF18;}\n",
              ".cython.score-97 {background-color: #FFFF17;}\n",
              ".cython.score-98 {background-color: #FFFF17;}\n",
              ".cython.score-99 {background-color: #FFFF17;}\n",
              ".cython.score-100 {background-color: #FFFF17;}\n",
              ".cython.score-101 {background-color: #FFFF16;}\n",
              ".cython.score-102 {background-color: #FFFF16;}\n",
              ".cython.score-103 {background-color: #FFFF16;}\n",
              ".cython.score-104 {background-color: #FFFF16;}\n",
              ".cython.score-105 {background-color: #FFFF16;}\n",
              ".cython.score-106 {background-color: #FFFF15;}\n",
              ".cython.score-107 {background-color: #FFFF15;}\n",
              ".cython.score-108 {background-color: #FFFF15;}\n",
              ".cython.score-109 {background-color: #FFFF15;}\n",
              ".cython.score-110 {background-color: #FFFF15;}\n",
              ".cython.score-111 {background-color: #FFFF15;}\n",
              ".cython.score-112 {background-color: #FFFF14;}\n",
              ".cython.score-113 {background-color: #FFFF14;}\n",
              ".cython.score-114 {background-color: #FFFF14;}\n",
              ".cython.score-115 {background-color: #FFFF14;}\n",
              ".cython.score-116 {background-color: #FFFF14;}\n",
              ".cython.score-117 {background-color: #FFFF14;}\n",
              ".cython.score-118 {background-color: #FFFF13;}\n",
              ".cython.score-119 {background-color: #FFFF13;}\n",
              ".cython.score-120 {background-color: #FFFF13;}\n",
              ".cython.score-121 {background-color: #FFFF13;}\n",
              ".cython.score-122 {background-color: #FFFF13;}\n",
              ".cython.score-123 {background-color: #FFFF13;}\n",
              ".cython.score-124 {background-color: #FFFF13;}\n",
              ".cython.score-125 {background-color: #FFFF12;}\n",
              ".cython.score-126 {background-color: #FFFF12;}\n",
              ".cython.score-127 {background-color: #FFFF12;}\n",
              ".cython.score-128 {background-color: #FFFF12;}\n",
              ".cython.score-129 {background-color: #FFFF12;}\n",
              ".cython.score-130 {background-color: #FFFF12;}\n",
              ".cython.score-131 {background-color: #FFFF12;}\n",
              ".cython.score-132 {background-color: #FFFF11;}\n",
              ".cython.score-133 {background-color: #FFFF11;}\n",
              ".cython.score-134 {background-color: #FFFF11;}\n",
              ".cython.score-135 {background-color: #FFFF11;}\n",
              ".cython.score-136 {background-color: #FFFF11;}\n",
              ".cython.score-137 {background-color: #FFFF11;}\n",
              ".cython.score-138 {background-color: #FFFF11;}\n",
              ".cython.score-139 {background-color: #FFFF11;}\n",
              ".cython.score-140 {background-color: #FFFF11;}\n",
              ".cython.score-141 {background-color: #FFFF10;}\n",
              ".cython.score-142 {background-color: #FFFF10;}\n",
              ".cython.score-143 {background-color: #FFFF10;}\n",
              ".cython.score-144 {background-color: #FFFF10;}\n",
              ".cython.score-145 {background-color: #FFFF10;}\n",
              ".cython.score-146 {background-color: #FFFF10;}\n",
              ".cython.score-147 {background-color: #FFFF10;}\n",
              ".cython.score-148 {background-color: #FFFF10;}\n",
              ".cython.score-149 {background-color: #FFFF10;}\n",
              ".cython.score-150 {background-color: #FFFF0f;}\n",
              ".cython.score-151 {background-color: #FFFF0f;}\n",
              ".cython.score-152 {background-color: #FFFF0f;}\n",
              ".cython.score-153 {background-color: #FFFF0f;}\n",
              ".cython.score-154 {background-color: #FFFF0f;}\n",
              ".cython.score-155 {background-color: #FFFF0f;}\n",
              ".cython.score-156 {background-color: #FFFF0f;}\n",
              ".cython.score-157 {background-color: #FFFF0f;}\n",
              ".cython.score-158 {background-color: #FFFF0f;}\n",
              ".cython.score-159 {background-color: #FFFF0f;}\n",
              ".cython.score-160 {background-color: #FFFF0f;}\n",
              ".cython.score-161 {background-color: #FFFF0e;}\n",
              ".cython.score-162 {background-color: #FFFF0e;}\n",
              ".cython.score-163 {background-color: #FFFF0e;}\n",
              ".cython.score-164 {background-color: #FFFF0e;}\n",
              ".cython.score-165 {background-color: #FFFF0e;}\n",
              ".cython.score-166 {background-color: #FFFF0e;}\n",
              ".cython.score-167 {background-color: #FFFF0e;}\n",
              ".cython.score-168 {background-color: #FFFF0e;}\n",
              ".cython.score-169 {background-color: #FFFF0e;}\n",
              ".cython.score-170 {background-color: #FFFF0e;}\n",
              ".cython.score-171 {background-color: #FFFF0e;}\n",
              ".cython.score-172 {background-color: #FFFF0e;}\n",
              ".cython.score-173 {background-color: #FFFF0d;}\n",
              ".cython.score-174 {background-color: #FFFF0d;}\n",
              ".cython.score-175 {background-color: #FFFF0d;}\n",
              ".cython.score-176 {background-color: #FFFF0d;}\n",
              ".cython.score-177 {background-color: #FFFF0d;}\n",
              ".cython.score-178 {background-color: #FFFF0d;}\n",
              ".cython.score-179 {background-color: #FFFF0d;}\n",
              ".cython.score-180 {background-color: #FFFF0d;}\n",
              ".cython.score-181 {background-color: #FFFF0d;}\n",
              ".cython.score-182 {background-color: #FFFF0d;}\n",
              ".cython.score-183 {background-color: #FFFF0d;}\n",
              ".cython.score-184 {background-color: #FFFF0d;}\n",
              ".cython.score-185 {background-color: #FFFF0d;}\n",
              ".cython.score-186 {background-color: #FFFF0d;}\n",
              ".cython.score-187 {background-color: #FFFF0c;}\n",
              ".cython.score-188 {background-color: #FFFF0c;}\n",
              ".cython.score-189 {background-color: #FFFF0c;}\n",
              ".cython.score-190 {background-color: #FFFF0c;}\n",
              ".cython.score-191 {background-color: #FFFF0c;}\n",
              ".cython.score-192 {background-color: #FFFF0c;}\n",
              ".cython.score-193 {background-color: #FFFF0c;}\n",
              ".cython.score-194 {background-color: #FFFF0c;}\n",
              ".cython.score-195 {background-color: #FFFF0c;}\n",
              ".cython.score-196 {background-color: #FFFF0c;}\n",
              ".cython.score-197 {background-color: #FFFF0c;}\n",
              ".cython.score-198 {background-color: #FFFF0c;}\n",
              ".cython.score-199 {background-color: #FFFF0c;}\n",
              ".cython.score-200 {background-color: #FFFF0c;}\n",
              ".cython.score-201 {background-color: #FFFF0c;}\n",
              ".cython.score-202 {background-color: #FFFF0c;}\n",
              ".cython.score-203 {background-color: #FFFF0b;}\n",
              ".cython.score-204 {background-color: #FFFF0b;}\n",
              ".cython.score-205 {background-color: #FFFF0b;}\n",
              ".cython.score-206 {background-color: #FFFF0b;}\n",
              ".cython.score-207 {background-color: #FFFF0b;}\n",
              ".cython.score-208 {background-color: #FFFF0b;}\n",
              ".cython.score-209 {background-color: #FFFF0b;}\n",
              ".cython.score-210 {background-color: #FFFF0b;}\n",
              ".cython.score-211 {background-color: #FFFF0b;}\n",
              ".cython.score-212 {background-color: #FFFF0b;}\n",
              ".cython.score-213 {background-color: #FFFF0b;}\n",
              ".cython.score-214 {background-color: #FFFF0b;}\n",
              ".cython.score-215 {background-color: #FFFF0b;}\n",
              ".cython.score-216 {background-color: #FFFF0b;}\n",
              ".cython.score-217 {background-color: #FFFF0b;}\n",
              ".cython.score-218 {background-color: #FFFF0b;}\n",
              ".cython.score-219 {background-color: #FFFF0b;}\n",
              ".cython.score-220 {background-color: #FFFF0b;}\n",
              ".cython.score-221 {background-color: #FFFF0b;}\n",
              ".cython.score-222 {background-color: #FFFF0a;}\n",
              ".cython.score-223 {background-color: #FFFF0a;}\n",
              ".cython.score-224 {background-color: #FFFF0a;}\n",
              ".cython.score-225 {background-color: #FFFF0a;}\n",
              ".cython.score-226 {background-color: #FFFF0a;}\n",
              ".cython.score-227 {background-color: #FFFF0a;}\n",
              ".cython.score-228 {background-color: #FFFF0a;}\n",
              ".cython.score-229 {background-color: #FFFF0a;}\n",
              ".cython.score-230 {background-color: #FFFF0a;}\n",
              ".cython.score-231 {background-color: #FFFF0a;}\n",
              ".cython.score-232 {background-color: #FFFF0a;}\n",
              ".cython.score-233 {background-color: #FFFF0a;}\n",
              ".cython.score-234 {background-color: #FFFF0a;}\n",
              ".cython.score-235 {background-color: #FFFF0a;}\n",
              ".cython.score-236 {background-color: #FFFF0a;}\n",
              ".cython.score-237 {background-color: #FFFF0a;}\n",
              ".cython.score-238 {background-color: #FFFF0a;}\n",
              ".cython.score-239 {background-color: #FFFF0a;}\n",
              ".cython.score-240 {background-color: #FFFF0a;}\n",
              ".cython.score-241 {background-color: #FFFF0a;}\n",
              ".cython.score-242 {background-color: #FFFF0a;}\n",
              ".cython.score-243 {background-color: #FFFF0a;}\n",
              ".cython.score-244 {background-color: #FFFF0a;}\n",
              ".cython.score-245 {background-color: #FFFF0a;}\n",
              ".cython.score-246 {background-color: #FFFF09;}\n",
              ".cython.score-247 {background-color: #FFFF09;}\n",
              ".cython.score-248 {background-color: #FFFF09;}\n",
              ".cython.score-249 {background-color: #FFFF09;}\n",
              ".cython.score-250 {background-color: #FFFF09;}\n",
              ".cython.score-251 {background-color: #FFFF09;}\n",
              ".cython.score-252 {background-color: #FFFF09;}\n",
              ".cython.score-253 {background-color: #FFFF09;}\n",
              ".cython.score-254 {background-color: #FFFF09;}\n",
              ".cython .hll { background-color: #ffffcc }\n",
              ".cython  { background: #f8f8f8; }\n",
              ".cython .c { color: #408080; font-style: italic } /* Comment */\n",
              ".cython .err { border: 1px solid #FF0000 } /* Error */\n",
              ".cython .k { color: #008000; font-weight: bold } /* Keyword */\n",
              ".cython .o { color: #666666 } /* Operator */\n",
              ".cython .ch { color: #408080; font-style: italic } /* Comment.Hashbang */\n",
              ".cython .cm { color: #408080; font-style: italic } /* Comment.Multiline */\n",
              ".cython .cp { color: #BC7A00 } /* Comment.Preproc */\n",
              ".cython .cpf { color: #408080; font-style: italic } /* Comment.PreprocFile */\n",
              ".cython .c1 { color: #408080; font-style: italic } /* Comment.Single */\n",
              ".cython .cs { color: #408080; font-style: italic } /* Comment.Special */\n",
              ".cython .gd { color: #A00000 } /* Generic.Deleted */\n",
              ".cython .ge { font-style: italic } /* Generic.Emph */\n",
              ".cython .gr { color: #FF0000 } /* Generic.Error */\n",
              ".cython .gh { color: #000080; font-weight: bold } /* Generic.Heading */\n",
              ".cython .gi { color: #00A000 } /* Generic.Inserted */\n",
              ".cython .go { color: #888888 } /* Generic.Output */\n",
              ".cython .gp { color: #000080; font-weight: bold } /* Generic.Prompt */\n",
              ".cython .gs { font-weight: bold } /* Generic.Strong */\n",
              ".cython .gu { color: #800080; font-weight: bold } /* Generic.Subheading */\n",
              ".cython .gt { color: #0044DD } /* Generic.Traceback */\n",
              ".cython .kc { color: #008000; font-weight: bold } /* Keyword.Constant */\n",
              ".cython .kd { color: #008000; font-weight: bold } /* Keyword.Declaration */\n",
              ".cython .kn { color: #008000; font-weight: bold } /* Keyword.Namespace */\n",
              ".cython .kp { color: #008000 } /* Keyword.Pseudo */\n",
              ".cython .kr { color: #008000; font-weight: bold } /* Keyword.Reserved */\n",
              ".cython .kt { color: #B00040 } /* Keyword.Type */\n",
              ".cython .m { color: #666666 } /* Literal.Number */\n",
              ".cython .s { color: #BA2121 } /* Literal.String */\n",
              ".cython .na { color: #7D9029 } /* Name.Attribute */\n",
              ".cython .nb { color: #008000 } /* Name.Builtin */\n",
              ".cython .nc { color: #0000FF; font-weight: bold } /* Name.Class */\n",
              ".cython .no { color: #880000 } /* Name.Constant */\n",
              ".cython .nd { color: #AA22FF } /* Name.Decorator */\n",
              ".cython .ni { color: #999999; font-weight: bold } /* Name.Entity */\n",
              ".cython .ne { color: #D2413A; font-weight: bold } /* Name.Exception */\n",
              ".cython .nf { color: #0000FF } /* Name.Function */\n",
              ".cython .nl { color: #A0A000 } /* Name.Label */\n",
              ".cython .nn { color: #0000FF; font-weight: bold } /* Name.Namespace */\n",
              ".cython .nt { color: #008000; font-weight: bold } /* Name.Tag */\n",
              ".cython .nv { color: #19177C } /* Name.Variable */\n",
              ".cython .ow { color: #AA22FF; font-weight: bold } /* Operator.Word */\n",
              ".cython .w { color: #bbbbbb } /* Text.Whitespace */\n",
              ".cython .mb { color: #666666 } /* Literal.Number.Bin */\n",
              ".cython .mf { color: #666666 } /* Literal.Number.Float */\n",
              ".cython .mh { color: #666666 } /* Literal.Number.Hex */\n",
              ".cython .mi { color: #666666 } /* Literal.Number.Integer */\n",
              ".cython .mo { color: #666666 } /* Literal.Number.Oct */\n",
              ".cython .sb { color: #BA2121 } /* Literal.String.Backtick */\n",
              ".cython .sc { color: #BA2121 } /* Literal.String.Char */\n",
              ".cython .sd { color: #BA2121; font-style: italic } /* Literal.String.Doc */\n",
              ".cython .s2 { color: #BA2121 } /* Literal.String.Double */\n",
              ".cython .se { color: #BB6622; font-weight: bold } /* Literal.String.Escape */\n",
              ".cython .sh { color: #BA2121 } /* Literal.String.Heredoc */\n",
              ".cython .si { color: #BB6688; font-weight: bold } /* Literal.String.Interpol */\n",
              ".cython .sx { color: #008000 } /* Literal.String.Other */\n",
              ".cython .sr { color: #BB6688 } /* Literal.String.Regex */\n",
              ".cython .s1 { color: #BA2121 } /* Literal.String.Single */\n",
              ".cython .ss { color: #19177C } /* Literal.String.Symbol */\n",
              ".cython .bp { color: #008000 } /* Name.Builtin.Pseudo */\n",
              ".cython .vc { color: #19177C } /* Name.Variable.Class */\n",
              ".cython .vg { color: #19177C } /* Name.Variable.Global */\n",
              ".cython .vi { color: #19177C } /* Name.Variable.Instance */\n",
              ".cython .il { color: #666666 } /* Literal.Number.Integer.Long */\n",
              "    </style>\n",
              "</head>\n",
              "<body class=\"cython\">\n",
              "<p><span style=\"border-bottom: solid 1px grey;\">Generated by Cython 0.29.19</span></p>\n",
              "<p>\n",
              "    <span style=\"background-color: #FFFF00\">Yellow lines</span> hint at Python interaction.<br />\n",
              "    Click on a line that starts with a \"<code>+</code>\" to see the C code that Cython generated for it.\n",
              "</p>\n",
              "<div class=\"cython\"><pre class=\"cython line score-8\" onclick=\"(function(s){s.display=s.display==='block'?'none':'block'})(this.nextElementSibling.style)\">+<span class=\"\">01</span>: <span class=\"k\">from</span> <span class=\"nn\">libc.math</span> <span class=\"k\">cimport</span> <span class=\"n\">exp</span><span class=\"p\">,</span> <span class=\"n\">log</span></pre>\n",
              "<pre class='cython code score-8 '>  __pyx_t_1 = <span class='pyx_c_api'>__Pyx_PyDict_NewPresized</span>(0);<span class='error_goto'> if (unlikely(!__pyx_t_1)) __PYX_ERR(0, 1, __pyx_L1_error)</span>\n",
              "  <span class='refnanny'>__Pyx_GOTREF</span>(__pyx_t_1);\n",
              "  if (<span class='py_c_api'>PyDict_SetItem</span>(__pyx_d, __pyx_n_s_test, __pyx_t_1) &lt; 0) <span class='error_goto'>__PYX_ERR(0, 1, __pyx_L1_error)</span>\n",
              "  <span class='pyx_macro_api'>__Pyx_DECREF</span>(__pyx_t_1); __pyx_t_1 = 0;\n",
              "</pre><pre class=\"cython line score-0\">&#xA0;<span class=\"\">02</span>: <span class=\"k\">import</span> <span class=\"nn\">cython</span></pre>\n",
              "<pre class=\"cython line score-0\">&#xA0;<span class=\"\">03</span>: </pre>\n",
              "<pre class=\"cython line score-0\">&#xA0;<span class=\"\">04</span>: <span class=\"cp\">DEF</span> <span class=\"n\">n</span> <span class=\"o\">=</span> <span class=\"mf\">8371</span></pre>\n",
              "<pre class=\"cython line score-0\">&#xA0;<span class=\"\">05</span>: <span class=\"cp\">DEF</span> <span class=\"n\">d</span> <span class=\"o\">=</span> <span class=\"mf\">56</span></pre>\n",
              "<pre class=\"cython line score-0\">&#xA0;<span class=\"\">06</span>: </pre>\n",
              "<pre class=\"cython line score-0\">&#xA0;<span class=\"\">07</span>: <span class=\"k\">cdef</span> <span class=\"k\">class</span> <span class=\"nf\">LogVerosimilitud</span><span class=\"p\">:</span></pre>\n",
              "<pre class=\"cython line score-0\">&#xA0;<span class=\"\">08</span>:     <span class=\"k\">cdef</span> <span class=\"kt\">double</span> <span class=\"kt\">X</span>[8371][56]</pre>\n",
              "<pre class=\"cython line score-0\">&#xA0;<span class=\"\">09</span>:     <span class=\"k\">cdef</span> <span class=\"kt\">double</span> <span class=\"kt\">y</span>[8371]</pre>\n",
              "<pre class=\"cython line score-0\">&#xA0;<span class=\"\">10</span>: </pre>\n",
              "<pre class=\"cython line score-26\" onclick=\"(function(s){s.display=s.display==='block'?'none':'block'})(this.nextElementSibling.style)\">+<span class=\"\">11</span>:     <span class=\"k\">def</span> <span class=\"nf\">__init__</span><span class=\"p\">(</span><span class=\"bp\">self</span><span class=\"p\">,</span><span class=\"n\">X</span><span class=\"p\">,</span><span class=\"n\">y</span><span class=\"p\">):</span></pre>\n",
              "<pre class='cython code score-26 '>/* Python wrapper */\n",
              "static int __pyx_pw_46_cython_magic_1f3deae8b619aa2df38f705784c5f668_16LogVerosimilitud_1__init__(PyObject *__pyx_v_self, PyObject *__pyx_args, PyObject *__pyx_kwds); /*proto*/\n",
              "static int __pyx_pw_46_cython_magic_1f3deae8b619aa2df38f705784c5f668_16LogVerosimilitud_1__init__(PyObject *__pyx_v_self, PyObject *__pyx_args, PyObject *__pyx_kwds) {\n",
              "  PyObject *__pyx_v_X = 0;\n",
              "  PyObject *__pyx_v_y = 0;\n",
              "  int __pyx_r;\n",
              "  <span class='refnanny'>__Pyx_RefNannyDeclarations</span>\n",
              "  <span class='refnanny'>__Pyx_RefNannySetupContext</span>(\"__init__ (wrapper)\", 0);\n",
              "  {\n",
              "    static PyObject **__pyx_pyargnames[] = {&amp;__pyx_n_s_X,&amp;__pyx_n_s_y,0};\n",
              "    PyObject* values[2] = {0,0};\n",
              "    if (unlikely(__pyx_kwds)) {\n",
              "      Py_ssize_t kw_args;\n",
              "      const Py_ssize_t pos_args = <span class='py_macro_api'>PyTuple_GET_SIZE</span>(__pyx_args);\n",
              "      switch (pos_args) {\n",
              "        case  2: values[1] = <span class='py_macro_api'>PyTuple_GET_ITEM</span>(__pyx_args, 1);\n",
              "        CYTHON_FALLTHROUGH;\n",
              "        case  1: values[0] = <span class='py_macro_api'>PyTuple_GET_ITEM</span>(__pyx_args, 0);\n",
              "        CYTHON_FALLTHROUGH;\n",
              "        case  0: break;\n",
              "        default: goto __pyx_L5_argtuple_error;\n",
              "      }\n",
              "      kw_args = <span class='py_c_api'>PyDict_Size</span>(__pyx_kwds);\n",
              "      switch (pos_args) {\n",
              "        case  0:\n",
              "        if (likely((values[0] = <span class='pyx_c_api'>__Pyx_PyDict_GetItemStr</span>(__pyx_kwds, __pyx_n_s_X)) != 0)) kw_args--;\n",
              "        else goto __pyx_L5_argtuple_error;\n",
              "        CYTHON_FALLTHROUGH;\n",
              "        case  1:\n",
              "        if (likely((values[1] = <span class='pyx_c_api'>__Pyx_PyDict_GetItemStr</span>(__pyx_kwds, __pyx_n_s_y)) != 0)) kw_args--;\n",
              "        else {\n",
              "          <span class='pyx_c_api'>__Pyx_RaiseArgtupleInvalid</span>(\"__init__\", 1, 2, 2, 1); <span class='error_goto'>__PYX_ERR(0, 11, __pyx_L3_error)</span>\n",
              "        }\n",
              "      }\n",
              "      if (unlikely(kw_args &gt; 0)) {\n",
              "        if (unlikely(<span class='pyx_c_api'>__Pyx_ParseOptionalKeywords</span>(__pyx_kwds, __pyx_pyargnames, 0, values, pos_args, \"__init__\") &lt; 0)) <span class='error_goto'>__PYX_ERR(0, 11, __pyx_L3_error)</span>\n",
              "      }\n",
              "    } else if (<span class='py_macro_api'>PyTuple_GET_SIZE</span>(__pyx_args) != 2) {\n",
              "      goto __pyx_L5_argtuple_error;\n",
              "    } else {\n",
              "      values[0] = <span class='py_macro_api'>PyTuple_GET_ITEM</span>(__pyx_args, 0);\n",
              "      values[1] = <span class='py_macro_api'>PyTuple_GET_ITEM</span>(__pyx_args, 1);\n",
              "    }\n",
              "    __pyx_v_X = values[0];\n",
              "    __pyx_v_y = values[1];\n",
              "  }\n",
              "  goto __pyx_L4_argument_unpacking_done;\n",
              "  __pyx_L5_argtuple_error:;\n",
              "  <span class='pyx_c_api'>__Pyx_RaiseArgtupleInvalid</span>(\"__init__\", 1, 2, 2, <span class='py_macro_api'>PyTuple_GET_SIZE</span>(__pyx_args)); <span class='error_goto'>__PYX_ERR(0, 11, __pyx_L3_error)</span>\n",
              "  __pyx_L3_error:;\n",
              "  <span class='pyx_c_api'>__Pyx_AddTraceback</span>(\"_cython_magic_1f3deae8b619aa2df38f705784c5f668.LogVerosimilitud.__init__\", __pyx_clineno, __pyx_lineno, __pyx_filename);\n",
              "  <span class='refnanny'>__Pyx_RefNannyFinishContext</span>();\n",
              "  return -1;\n",
              "  __pyx_L4_argument_unpacking_done:;\n",
              "  __pyx_r = __pyx_pf_46_cython_magic_1f3deae8b619aa2df38f705784c5f668_16LogVerosimilitud___init__(((struct __pyx_obj_46_cython_magic_1f3deae8b619aa2df38f705784c5f668_LogVerosimilitud *)__pyx_v_self), __pyx_v_X, __pyx_v_y);\n",
              "  int __pyx_lineno = 0;\n",
              "  const char *__pyx_filename = NULL;\n",
              "  int __pyx_clineno = 0;\n",
              "\n",
              "  /* function exit code */\n",
              "  <span class='refnanny'>__Pyx_RefNannyFinishContext</span>();\n",
              "  return __pyx_r;\n",
              "}\n",
              "\n",
              "static int __pyx_pf_46_cython_magic_1f3deae8b619aa2df38f705784c5f668_16LogVerosimilitud___init__(struct __pyx_obj_46_cython_magic_1f3deae8b619aa2df38f705784c5f668_LogVerosimilitud *__pyx_v_self, PyObject *__pyx_v_X, PyObject *__pyx_v_y) {\n",
              "  int __pyx_r;\n",
              "  <span class='refnanny'>__Pyx_RefNannyDeclarations</span>\n",
              "  <span class='refnanny'>__Pyx_RefNannySetupContext</span>(\"__init__\", 0);\n",
              "/* … */\n",
              "  /* function exit code */\n",
              "  __pyx_r = 0;\n",
              "  goto __pyx_L0;\n",
              "  __pyx_L1_error:;\n",
              "  <span class='pyx_c_api'>__Pyx_AddTraceback</span>(\"_cython_magic_1f3deae8b619aa2df38f705784c5f668.LogVerosimilitud.__init__\", __pyx_clineno, __pyx_lineno, __pyx_filename);\n",
              "  __pyx_r = -1;\n",
              "  __pyx_L0:;\n",
              "  <span class='refnanny'>__Pyx_RefNannyFinishContext</span>();\n",
              "  return __pyx_r;\n",
              "}\n",
              "</pre><pre class=\"cython line score-5\" onclick=\"(function(s){s.display=s.display==='block'?'none':'block'})(this.nextElementSibling.style)\">+<span class=\"\">12</span>:         <span class=\"bp\">self</span><span class=\"o\">.</span><span class=\"n\">X</span> <span class=\"o\">=</span> <span class=\"n\">X</span></pre>\n",
              "<pre class='cython code score-5 '>  if (unlikely(__Pyx_carray_from_py_double___5b_56_5d_(__pyx_v_X, __pyx_t_1, 0x20B3) &lt; 0)) <span class='error_goto'>__PYX_ERR(0, 12, __pyx_L1_error)</span>\n",
              "  if (unlikely((0x20B3) != (0x20B3))) {\n",
              "    <span class='py_c_api'>PyErr_Format</span>(PyExc_ValueError, \"Assignment to slice of wrong length, expected %\" CYTHON_FORMAT_SSIZE_T \"d, got %\" CYTHON_FORMAT_SSIZE_T \"d\", (Py_ssize_t)(0x20B3), (Py_ssize_t)(0x20B3));\n",
              "    <span class='error_goto'>__PYX_ERR(0, 12, __pyx_L1_error)</span>\n",
              "  }\n",
              "  memcpy(&amp;(__pyx_v_self-&gt;X[0]), __pyx_t_1, sizeof(__pyx_v_self-&gt;X[0]) * (0x20B3));\n",
              "</pre><pre class=\"cython line score-5\" onclick=\"(function(s){s.display=s.display==='block'?'none':'block'})(this.nextElementSibling.style)\">+<span class=\"\">13</span>:         <span class=\"bp\">self</span><span class=\"o\">.</span><span class=\"n\">y</span> <span class=\"o\">=</span> <span class=\"n\">y</span></pre>\n",
              "<pre class='cython code score-5 '>  if (unlikely(__Pyx_carray_from_py_double(__pyx_v_y, __pyx_t_2, 0x20B3) &lt; 0)) <span class='error_goto'>__PYX_ERR(0, 13, __pyx_L1_error)</span>\n",
              "  if (unlikely((0x20B3) != (0x20B3))) {\n",
              "    <span class='py_c_api'>PyErr_Format</span>(PyExc_ValueError, \"Assignment to slice of wrong length, expected %\" CYTHON_FORMAT_SSIZE_T \"d, got %\" CYTHON_FORMAT_SSIZE_T \"d\", (Py_ssize_t)(0x20B3), (Py_ssize_t)(0x20B3));\n",
              "    <span class='error_goto'>__PYX_ERR(0, 13, __pyx_L1_error)</span>\n",
              "  }\n",
              "  memcpy(&amp;(__pyx_v_self-&gt;y[0]), __pyx_t_2, sizeof(__pyx_v_self-&gt;y[0]) * (0x20B3));\n",
              "</pre><pre class=\"cython line score-0\">&#xA0;<span class=\"\">14</span>: </pre>\n",
              "<pre class=\"cython line score-0\">&#xA0;<span class=\"\">15</span>: </pre>\n",
              "<pre class=\"cython line score-0\">&#xA0;<span class=\"\">16</span>:     <span class=\"nd\">@cython</span><span class=\"o\">.</span><span class=\"n\">cdivision</span><span class=\"p\">(</span><span class=\"bp\">True</span><span class=\"p\">)</span></pre>\n",
              "<pre class=\"cython line score-3\" onclick=\"(function(s){s.display=s.display==='block'?'none':'block'})(this.nextElementSibling.style)\">+<span class=\"\">17</span>:     <span class=\"k\">def</span> <span class=\"nf\">get</span><span class=\"p\">(</span><span class=\"bp\">self</span><span class=\"p\">,</span> <span class=\"n\">w</span><span class=\"p\">):</span></pre>\n",
              "<pre class='cython code score-3 '>/* Python wrapper */\n",
              "static PyObject *__pyx_pw_46_cython_magic_1f3deae8b619aa2df38f705784c5f668_16LogVerosimilitud_3get(PyObject *__pyx_v_self, PyObject *__pyx_v_w); /*proto*/\n",
              "static PyObject *__pyx_pw_46_cython_magic_1f3deae8b619aa2df38f705784c5f668_16LogVerosimilitud_3get(PyObject *__pyx_v_self, PyObject *__pyx_v_w) {\n",
              "  PyObject *__pyx_r = 0;\n",
              "  <span class='refnanny'>__Pyx_RefNannyDeclarations</span>\n",
              "  <span class='refnanny'>__Pyx_RefNannySetupContext</span>(\"get (wrapper)\", 0);\n",
              "  __pyx_r = __pyx_pf_46_cython_magic_1f3deae8b619aa2df38f705784c5f668_16LogVerosimilitud_2get(((struct __pyx_obj_46_cython_magic_1f3deae8b619aa2df38f705784c5f668_LogVerosimilitud *)__pyx_v_self), ((PyObject *)__pyx_v_w));\n",
              "\n",
              "  /* function exit code */\n",
              "  <span class='refnanny'>__Pyx_RefNannyFinishContext</span>();\n",
              "  return __pyx_r;\n",
              "}\n",
              "\n",
              "static PyObject *__pyx_pf_46_cython_magic_1f3deae8b619aa2df38f705784c5f668_16LogVerosimilitud_2get(struct __pyx_obj_46_cython_magic_1f3deae8b619aa2df38f705784c5f668_LogVerosimilitud *__pyx_v_self, PyObject *__pyx_v_w) {\n",
              "  double __pyx_v_w_c[56];\n",
              "  double __pyx_v_res;\n",
              "  double __pyx_v_s;\n",
              "  double __pyx_v_wx;\n",
              "  int __pyx_v_i;\n",
              "  long __pyx_v_j;\n",
              "  PyObject *__pyx_r = NULL;\n",
              "  <span class='refnanny'>__Pyx_RefNannyDeclarations</span>\n",
              "  <span class='refnanny'>__Pyx_RefNannySetupContext</span>(\"get\", 0);\n",
              "/* … */\n",
              "  /* function exit code */\n",
              "  __pyx_L1_error:;\n",
              "  <span class='pyx_macro_api'>__Pyx_XDECREF</span>(__pyx_t_2);\n",
              "  <span class='pyx_c_api'>__Pyx_AddTraceback</span>(\"_cython_magic_1f3deae8b619aa2df38f705784c5f668.LogVerosimilitud.get\", __pyx_clineno, __pyx_lineno, __pyx_filename);\n",
              "  __pyx_r = NULL;\n",
              "  __pyx_L0:;\n",
              "  <span class='refnanny'>__Pyx_XGIVEREF</span>(__pyx_r);\n",
              "  <span class='refnanny'>__Pyx_RefNannyFinishContext</span>();\n",
              "  return __pyx_r;\n",
              "}\n",
              "</pre><pre class=\"cython line score-0\">&#xA0;<span class=\"\">18</span>:         <span class=\"k\">cdef</span> <span class=\"kt\">double</span> <span class=\"kt\">w_c</span>[<span class=\"kt\">d</span>];</pre>\n",
              "<pre class=\"cython line score-0\" onclick=\"(function(s){s.display=s.display==='block'?'none':'block'})(this.nextElementSibling.style)\">+<span class=\"\">19</span>:         <span class=\"k\">cdef</span> <span class=\"kt\">double</span> <span class=\"nf\">res</span><span class=\"o\">=</span><span class=\"mf\">0</span><span class=\"p\">;</span></pre>\n",
              "<pre class='cython code score-0 '>  __pyx_v_res = 0.0;\n",
              "</pre><pre class=\"cython line score-0\">&#xA0;<span class=\"\">20</span>:         <span class=\"k\">cdef</span> <span class=\"kt\">double</span> <span class=\"kt\">s</span>;</pre>\n",
              "<pre class=\"cython line score-0\">&#xA0;<span class=\"\">21</span>: </pre>\n",
              "<pre class=\"cython line score-0\">&#xA0;<span class=\"\">22</span>:         <span class=\"k\">cdef</span> <span class=\"kt\">double</span> <span class=\"kt\">wx</span>;</pre>\n",
              "<pre class=\"cython line score-0\">&#xA0;<span class=\"\">23</span>: </pre>\n",
              "<pre class=\"cython line score-0\">&#xA0;<span class=\"\">24</span>:         <span class=\"k\">cdef</span> <span class=\"kt\">int</span> <span class=\"kt\">i</span>;</pre>\n",
              "<pre class=\"cython line score-0\">&#xA0;<span class=\"\">25</span>: </pre>\n",
              "<pre class=\"cython line score-0\" onclick=\"(function(s){s.display=s.display==='block'?'none':'block'})(this.nextElementSibling.style)\">+<span class=\"\">26</span>:         <span class=\"n\">w_c</span> <span class=\"o\">=</span> <span class=\"n\">w</span></pre>\n",
              "<pre class='cython code score-0 '>  if (unlikely(__Pyx_carray_from_py_double(__pyx_v_w, __pyx_t_1, 56) &lt; 0)) <span class='error_goto'>__PYX_ERR(0, 26, __pyx_L1_error)</span>\n",
              "  memcpy(&amp;(__pyx_v_w_c[0]), __pyx_t_1, sizeof(__pyx_v_w_c[0]) * (56));\n",
              "</pre><pre class=\"cython line score-0\">&#xA0;<span class=\"\">27</span>: </pre>\n",
              "<pre class=\"cython line score-0\" onclick=\"(function(s){s.display=s.display==='block'?'none':'block'})(this.nextElementSibling.style)\">+<span class=\"\">28</span>:         <span class=\"k\">for</span> <span class=\"n\">i</span> <span class=\"k\">from</span> <span class=\"mf\">0</span> <span class=\"o\">&lt;=</span><span class=\"n\">i</span> <span class=\"o\">&lt;</span><span class=\"n\">n</span> <span class=\"k\">by</span> <span class=\"mf\">1</span><span class=\"p\">:</span></pre>\n",
              "<pre class='cython code score-0 '>  for (__pyx_v_i = 0; __pyx_v_i &lt; 0x20B3; __pyx_v_i+=1) {\n",
              "</pre><pre class=\"cython line score-0\" onclick=\"(function(s){s.display=s.display==='block'?'none':'block'})(this.nextElementSibling.style)\">+<span class=\"\">29</span>:             <span class=\"n\">wx</span> <span class=\"o\">=</span> <span class=\"mf\">0.0</span><span class=\"p\">;</span></pre>\n",
              "<pre class='cython code score-0 '>    __pyx_v_wx = 0.0;\n",
              "</pre><pre class=\"cython line score-0\" onclick=\"(function(s){s.display=s.display==='block'?'none':'block'})(this.nextElementSibling.style)\">+<span class=\"\">30</span>:             <span class=\"k\">for</span> <span class=\"n\">j</span> <span class=\"k\">from</span> <span class=\"mf\">0</span><span class=\"o\">&lt;=</span> <span class=\"n\">j</span> <span class=\"o\">&lt;</span><span class=\"n\">d</span> <span class=\"k\">by</span> <span class=\"mf\">1</span><span class=\"p\">:</span></pre>\n",
              "<pre class='cython code score-0 '>    for (__pyx_v_j = 0; __pyx_v_j &lt; 56; __pyx_v_j+=1) {\n",
              "</pre><pre class=\"cython line score-0\" onclick=\"(function(s){s.display=s.display==='block'?'none':'block'})(this.nextElementSibling.style)\">+<span class=\"\">31</span>:                 <span class=\"n\">wx</span> <span class=\"o\">=</span> <span class=\"n\">wx</span> <span class=\"o\">+</span> <span class=\"n\">w_c</span><span class=\"p\">[</span><span class=\"n\">j</span><span class=\"p\">]</span><span class=\"o\">*</span><span class=\"bp\">self</span><span class=\"o\">.</span><span class=\"n\">X</span><span class=\"p\">[</span><span class=\"n\">i</span><span class=\"p\">][</span><span class=\"n\">j</span><span class=\"p\">]</span></pre>\n",
              "<pre class='cython code score-0 '>      __pyx_v_wx = (__pyx_v_wx + ((__pyx_v_w_c[__pyx_v_j]) * ((__pyx_v_self-&gt;X[__pyx_v_i])[__pyx_v_j])));\n",
              "    }\n",
              "</pre><pre class=\"cython line score-0\" onclick=\"(function(s){s.display=s.display==='block'?'none':'block'})(this.nextElementSibling.style)\">+<span class=\"\">32</span>:             <span class=\"n\">s</span> <span class=\"o\">=</span> <span class=\"mf\">1</span><span class=\"o\">/</span><span class=\"p\">(</span><span class=\"mf\">1</span><span class=\"o\">+</span><span class=\"n\">exp</span><span class=\"p\">(</span><span class=\"o\">-</span><span class=\"n\">wx</span><span class=\"p\">))</span></pre>\n",
              "<pre class='cython code score-0 '>    __pyx_v_s = (1.0 / (1.0 + exp((-__pyx_v_wx))));\n",
              "</pre><pre class=\"cython line score-0\" onclick=\"(function(s){s.display=s.display==='block'?'none':'block'})(this.nextElementSibling.style)\">+<span class=\"\">33</span>:             <span class=\"n\">res</span> <span class=\"o\">=</span> <span class=\"n\">res</span> <span class=\"o\">+</span> <span class=\"bp\">self</span><span class=\"o\">.</span><span class=\"n\">y</span><span class=\"p\">[</span><span class=\"n\">i</span><span class=\"p\">]</span><span class=\"o\">*</span><span class=\"n\">log</span><span class=\"p\">(</span><span class=\"n\">s</span><span class=\"p\">)</span> <span class=\"o\">+</span> <span class=\"p\">(</span><span class=\"mf\">1</span><span class=\"o\">-</span><span class=\"bp\">self</span><span class=\"o\">.</span><span class=\"n\">y</span><span class=\"p\">[</span><span class=\"n\">i</span><span class=\"p\">])</span><span class=\"o\">*</span><span class=\"n\">log</span><span class=\"p\">(</span><span class=\"mf\">1</span><span class=\"o\">-</span><span class=\"n\">s</span><span class=\"p\">)</span></pre>\n",
              "<pre class='cython code score-0 '>    __pyx_v_res = ((__pyx_v_res + ((__pyx_v_self-&gt;y[__pyx_v_i]) * log(__pyx_v_s))) + ((1.0 - (__pyx_v_self-&gt;y[__pyx_v_i])) * log((1.0 - __pyx_v_s))));\n",
              "  }\n",
              "</pre><pre class=\"cython line score-6\" onclick=\"(function(s){s.display=s.display==='block'?'none':'block'})(this.nextElementSibling.style)\">+<span class=\"\">34</span>:         <span class=\"k\">return</span> <span class=\"n\">res</span></pre>\n",
              "<pre class='cython code score-6 '>  <span class='pyx_macro_api'>__Pyx_XDECREF</span>(__pyx_r);\n",
              "  __pyx_t_2 = <span class='py_c_api'>PyFloat_FromDouble</span>(__pyx_v_res);<span class='error_goto'> if (unlikely(!__pyx_t_2)) __PYX_ERR(0, 34, __pyx_L1_error)</span>\n",
              "  <span class='refnanny'>__Pyx_GOTREF</span>(__pyx_t_2);\n",
              "  __pyx_r = __pyx_t_2;\n",
              "  __pyx_t_2 = 0;\n",
              "  goto __pyx_L0;\n",
              "</pre></div></body></html>"
            ],
            "text/plain": [
              "<IPython.core.display.HTML object>"
            ]
          },
          "metadata": {
            "tags": []
          },
          "execution_count": 24
        }
      ]
    },
    {
      "cell_type": "markdown",
      "metadata": {
        "colab_type": "text",
        "id": "qSXgQxypqv0V"
      },
      "source": [
        "* Compruebe que su implementación retorna la verosimilitud ya conocida para `w_inicial`."
      ]
    },
    {
      "cell_type": "code",
      "metadata": {
        "colab_type": "code",
        "id": "45As9N8q3B6M",
        "colab": {
          "base_uri": "https://localhost:8080/",
          "height": 35
        },
        "outputId": "0e4a84f1-02f1-4a93-ea9d-07859b515357"
      },
      "source": [
        "lv = LogVerosimilitud(X_cython, y_cython)\n",
        "lv.get(w_inicial)"
      ],
      "execution_count": 25,
      "outputs": [
        {
          "output_type": "execute_result",
          "data": {
            "text/plain": [
              "-3270.759266887374"
            ]
          },
          "metadata": {
            "tags": []
          },
          "execution_count": 25
        }
      ]
    },
    {
      "cell_type": "markdown",
      "metadata": {
        "colab_type": "text",
        "id": "Vwcx3e6Wqv0X"
      },
      "source": [
        "* Compruebe que dados los mismos inputs `X_cython` y `y_cython`, la versión de Cython es más eficaz, pero que sin embargo, la más rápida es la versión de `numpy` en los inputs de `X_mcmc` e `y_mcmc`.  "
      ]
    },
    {
      "cell_type": "code",
      "metadata": {
        "colab_type": "code",
        "id": "qAa8risTkDgb",
        "colab": {
          "base_uri": "https://localhost:8080/",
          "height": 107
        },
        "outputId": "b7f6d982-8d5d-4794-9dad-3698b00f9fe0"
      },
      "source": [
        "%timeit RegresionLogisticaMixin()._log_verosimilitud(w_inicial, X_cython, y_cython)\n",
        "%timeit lv.get(w_inicial)\n",
        "%timeit RegresionLogisticaMixin()._log_verosimilitud(w_inicial, X_mcmc, y_mcmc)"
      ],
      "execution_count": 28,
      "outputs": [
        {
          "output_type": "stream",
          "text": [
            "The slowest run took 5.68 times longer than the fastest. This could mean that an intermediate result is being cached.\n",
            "100 loops, best of 3: 3.36 ms per loop\n",
            "1000 loops, best of 3: 1.5 ms per loop\n",
            "1000 loops, best of 3: 1.3 ms per loop\n"
          ],
          "name": "stdout"
        }
      ]
    },
    {
      "cell_type": "markdown",
      "metadata": {
        "colab_type": "text",
        "id": "3tgBF9X2qv0Z"
      },
      "source": [
        "## Bonus (sin puntaje)\n",
        "\n",
        "El valor de `w_inicial` utilizado en este ejercicio fue obtenido por medio de máxima verosimilitud. A continuación compararemos los resultados de scikit-learn, utilizando el parámetro de máxima verosimilitud con el enfoque bayesiano implementado a lo largo de esta evaluación."
      ]
    },
    {
      "cell_type": "code",
      "metadata": {
        "colab_type": "code",
        "id": "vR4Jk_TQqv0Z",
        "colab": {}
      },
      "source": [
        "def log_reg(X, w):\n",
        "    '''\n",
        "    Clasificador Logistico\n",
        "    '''\n",
        "    mixin = RegresionLogisticaMixin()\n",
        "    probs = mixin.sigmoide(X @ w)\n",
        "    \n",
        "    return np.round(1 + probs) - 1"
      ],
      "execution_count": 0,
      "outputs": []
    },
    {
      "cell_type": "markdown",
      "metadata": {
        "colab_type": "text",
        "id": "a_VGVLtLqv0b"
      },
      "source": [
        "Preparar los datos del conjunto de test"
      ]
    },
    {
      "cell_type": "code",
      "metadata": {
        "colab_type": "code",
        "id": "vs9s7ak3qv0b",
        "colab": {}
      },
      "source": [
        "X_mcmc_test = col_trans.fit_transform(X_test)\n",
        "X_mcmc_test = sparse.hstack((np.ones((X_mcmc_test.shape[0], 1)), X_mcmc_test))\n",
        "y_mcmc_test = y_test.astype(int).values"
      ],
      "execution_count": 0,
      "outputs": []
    },
    {
      "cell_type": "markdown",
      "metadata": {
        "colab_type": "text",
        "id": "6szImb7Sqv0d"
      },
      "source": [
        "Se inicaliza el modelo bayesiano"
      ]
    },
    {
      "cell_type": "code",
      "metadata": {
        "colab_type": "code",
        "id": "d-L0SEGeqv0d",
        "colab": {}
      },
      "source": [
        "_, std_inicial = stats.norm.fit(w_inicial, floc=0)\n",
        "media_prior = np.zeros(w_inicial.shape)\n",
        "std_poposal = 1e-2\n",
        "n_samples = int(1e3)\n",
        "\n",
        "rlb_v1 = RegresionLogisticaBayesianaMHV1(w_inicial, media_prior, std_inicial,\n",
        "                                         std_poposal, n_samples)\n",
        "rlb_v1.fit(X_mcmc, y_mcmc)"
      ],
      "execution_count": 0,
      "outputs": []
    },
    {
      "cell_type": "markdown",
      "metadata": {
        "colab_type": "text",
        "id": "7Rc11ztCqv0f"
      },
      "source": [
        "Comparación en métricas de rendimiento"
      ]
    },
    {
      "cell_type": "code",
      "metadata": {
        "colab_type": "code",
        "id": "gsJKc6L6qv0g",
        "colab": {}
      },
      "source": [
        "y_pred_sklearn = log_reg(X_mcmc_test, w_inicial)\n",
        "y_pred_rlb = rlb_v1.predict(X_mcmc_test)\n",
        "\n",
        "ac_skl = accuracy_score(y_pred_sklearn, y_test)\n",
        "f1_skl = f1_score(y_pred_sklearn, y_test)\n",
        "ac_rlb = accuracy_score(y_pred_rlb, y_test)\n",
        "f1_rlb = f1_score(y_pred_rlb, y_test)\n",
        "print('Accuracy sk-learn: ', ac_skl)\n",
        "print('F1 score sk-learn: ', f1_skl)\n",
        "print('Accuracy RLB: ', ac_rlb)\n",
        "print('F1 score RLB: ', f1_rlb)\n",
        "print(f'Ac RLB >= MLE: {ac_rlb >= ac_skl}    F1 RLB >= MLE: {f1_rlb >= f1_skl}')"
      ],
      "execution_count": 0,
      "outputs": []
    },
    {
      "cell_type": "markdown",
      "metadata": {
        "colab_type": "text",
        "id": "p9Z1Oz5qqv0i"
      },
      "source": [
        "Para visualizar la posterior cargamos las trazas obtenidas durante el ejercicio:"
      ]
    },
    {
      "cell_type": "code",
      "metadata": {
        "colab_type": "code",
        "id": "YV9Dc_VJqv0i",
        "colab": {}
      },
      "source": [
        "np_files = sorted(glob.glob('trazas/*.npy'))\n",
        "traza_concat = None\n",
        "\n",
        "for filename in np_files:\n",
        "    \n",
        "    traza = np.load(filename)\n",
        "    \n",
        "    if traza_concat is None:\n",
        "        \n",
        "        traza_concat = traza\n",
        "        \n",
        "    else:\n",
        "        \n",
        "        traza_concat = np.concatenate((traza_concat, traza), axis=0)\n",
        "        \n",
        "traza_concat.shape"
      ],
      "execution_count": 0,
      "outputs": []
    },
    {
      "cell_type": "markdown",
      "metadata": {
        "colab_type": "text",
        "id": "7SC-gmsSqv0k"
      },
      "source": [
        "Visualizamos la traza como la distribución."
      ]
    },
    {
      "cell_type": "code",
      "metadata": {
        "colab_type": "code",
        "id": "v0G5qdYbqv0k",
        "colab": {}
      },
      "source": [
        "dir_fig = 'fig'\n",
        "archivo_figura = f'{dir_fig}/prop-{std_poposal:.0e}_nsamples-{n_samples:.0e}.png'\n",
        "sobrescribe = False\n",
        "\n",
        "xx = np.arange(traza_concat.shape[0])\n",
        "w_esperado = traza_concat.mean(0)\n",
        "\n",
        "nrows, ncols = traza_concat.shape[1], 2\n",
        "fig, axes = plt.subplots(nrows, ncols, figsize=(5 * ncols, 3 * nrows), \n",
        "                         gridspec_kw={'hspace':.3})\n",
        "for i in range(nrows):\n",
        "    \n",
        "    # histograma posterior\n",
        "    ax_ = axes[i, 0]\n",
        "    ax_.set_title('Posterior w_' + str(i))\n",
        "    \n",
        "    # evita FutureWarnings en distplot\n",
        "    with warnings.catch_warnings():\n",
        "        warnings.simplefilter(\"ignore\", category=FutureWarning)\n",
        "        sns.distplot(traza_concat[:, i], ax=ax_)\n",
        "        \n",
        "    ax_.set_ylabel('frecuencia')\n",
        "    ax_.axvline(x=w_inicial[i], label='MLE', ls= '-.', c = 'r')\n",
        "    ax_.axvline(x=w_esperado[i], label = 'Esperado',ls= '--', c='black')\n",
        "    ax_.legend()\n",
        "    \n",
        "    # traza\n",
        "    ax_ = axes[i, 1]\n",
        "    ax_.scatter(x=xx, y = traza_concat[:, i], alpha=.6, s=.1)\n",
        "    ax_.set_ylabel('w_' + str(i))\n",
        "    ax_.set_title('Traza w_' + str(i))\n",
        "    \n",
        "axes[i, 0].set_xlabel('w_' + str(i));\n",
        "axes[i, 1].set_xlabel('Iteraciones'); \n",
        "if (not os.path.isfile(archivo_figura)) or sobrescribe:\n",
        "    fig.savefig(archivo_figura, bbxox_inches='tight')\n",
        "else:\n",
        "    print(f'Archivo existente,  y `sobrescribe` = {sobrescribe}')"
      ],
      "execution_count": 0,
      "outputs": []
    }
  ]
}